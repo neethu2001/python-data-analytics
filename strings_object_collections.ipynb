{
 "cells": [
  {
   "cell_type": "code",
   "execution_count": 3,
   "id": "ef451bd8-6f97-4e54-a51a-529ba7f61628",
   "metadata": {},
   "outputs": [
    {
     "data": {
      "text/plain": [
       "'sudh1'"
      ]
     },
     "execution_count": 3,
     "metadata": {},
     "output_type": "execute_result"
    }
   ],
   "source": [
    "s = \"sudh\"\n",
    "s + str(1)"
   ]
  },
  {
   "cell_type": "code",
   "execution_count": 4,
   "id": "7515f696-3505-440a-b88d-ac995fda1bba",
   "metadata": {},
   "outputs": [
    {
     "data": {
      "text/plain": [
       "'sudhsudhsudh'"
      ]
     },
     "execution_count": 4,
     "metadata": {},
     "output_type": "execute_result"
    }
   ],
   "source": [
    "s*3"
   ]
  },
  {
   "cell_type": "code",
   "execution_count": 5,
   "id": "21c21a69-f9ff-4644-ad5a-3f6118fc860f",
   "metadata": {},
   "outputs": [
    {
     "data": {
      "text/plain": [
       "[1, 2, 3, 4, 'sdsd', 1, 2, 3, 4, 'sdsd', 1, 2, 3, 4, 'sdsd']"
      ]
     },
     "execution_count": 5,
     "metadata": {},
     "output_type": "execute_result"
    }
   ],
   "source": [
    "[1,2,3,4,\"sdsd\"]*3"
   ]
  },
  {
   "cell_type": "code",
   "execution_count": 6,
   "id": "57490151-7d7c-4a91-b3f6-6623780209e8",
   "metadata": {},
   "outputs": [
    {
     "data": {
      "text/plain": [
       "'SUDH'"
      ]
     },
     "execution_count": 6,
     "metadata": {},
     "output_type": "execute_result"
    }
   ],
   "source": [
    "# inbuild methods\n",
    "s.upper()"
   ]
  },
  {
   "cell_type": "code",
   "execution_count": 7,
   "id": "93495cf7-6ef4-4bba-896f-a38cff307cc2",
   "metadata": {},
   "outputs": [
    {
     "data": {
      "text/plain": [
       "'sudh'"
      ]
     },
     "execution_count": 7,
     "metadata": {},
     "output_type": "execute_result"
    }
   ],
   "source": [
    "s.lower()"
   ]
  },
  {
   "cell_type": "code",
   "execution_count": 8,
   "id": "631de61c-692f-4710-b9db-ba4ac9502e23",
   "metadata": {},
   "outputs": [
    {
     "data": {
      "text/plain": [
       "['sudh', 'kumar', 'name', 'is']"
      ]
     },
     "execution_count": 8,
     "metadata": {},
     "output_type": "execute_result"
    }
   ],
   "source": [
    "a='sudh kumar name is'\n",
    "a.split()"
   ]
  },
  {
   "cell_type": "code",
   "execution_count": 9,
   "id": "98411460-f670-4ec3-99de-3aba90516187",
   "metadata": {},
   "outputs": [
    {
     "data": {
      "text/plain": [
       "['sud', 'kumar', 'manu', 'gopal']"
      ]
     },
     "execution_count": 9,
     "metadata": {},
     "output_type": "execute_result"
    }
   ],
   "source": [
    "a='sud@kumar@manu@gopal'\n",
    "a.split('@')# need to seperate using @. there is no white space"
   ]
  },
  {
   "cell_type": "code",
   "execution_count": 10,
   "id": "a7915822-52e2-4026-8c78-c4cac7d36427",
   "metadata": {},
   "outputs": [
    {
     "data": {
      "text/plain": [
       "['suma', 'manu', 'gopu', 'hira']"
      ]
     },
     "execution_count": 10,
     "metadata": {},
     "output_type": "execute_result"
    }
   ],
   "source": [
    "a='suma1manu1gopu1hira' # here it is removing those 1's  and splitting, considering all the 1's\n",
    "a.split('1') # 1 is delimiter, no of divison based on no of delimiter"
   ]
  },
  {
   "cell_type": "code",
   "execution_count": 11,
   "id": "756cafbf-348f-4a77-93ac-a0bb52985905",
   "metadata": {},
   "outputs": [
    {
     "data": {
      "text/plain": [
       "('suma', '1', 'manu1gopu1hira')"
      ]
     },
     "execution_count": 11,
     "metadata": {},
     "output_type": "execute_result"
    }
   ],
   "source": [
    "a='suma1manu1gopu1hira'\n",
    "a.partition('1') # here it is dividing before and after the 1. but it is only considering first 1. after that it is writting as whole into one."
   ]
  },
  {
   "cell_type": "code",
   "execution_count": 12,
   "id": "9fc8ba8f-5d68-4f80-91ff-ba3ff2d5193a",
   "metadata": {},
   "outputs": [
    {
     "data": {
      "text/plain": [
       "5"
      ]
     },
     "execution_count": 12,
     "metadata": {},
     "output_type": "execute_result"
    }
   ],
   "source": [
    "d='sudhsaesdaeaaaaaaaaawqwwaads'\n",
    "d.find('a')"
   ]
  },
  {
   "cell_type": "code",
   "execution_count": 14,
   "id": "df2de8b0-069f-4d46-bf1c-e3e132d17f8f",
   "metadata": {},
   "outputs": [
    {
     "data": {
      "text/plain": [
       "'vvvsudhvvv'"
      ]
     },
     "execution_count": 14,
     "metadata": {},
     "output_type": "execute_result"
    }
   ],
   "source": [
    "f=\"sudh\"\n",
    "f.center(10,'v')"
   ]
  },
  {
   "cell_type": "code",
   "execution_count": 19,
   "id": "5902e7dc-de22-4baa-8812-fad3a1416c1e",
   "metadata": {},
   "outputs": [
    {
     "data": {
      "text/plain": [
       "'sudh\\rere\\ref      '"
      ]
     },
     "execution_count": 19,
     "metadata": {},
     "output_type": "execute_result"
    }
   ],
   "source": [
    "'sudh\\rere\\ref\\t'.expandtabs()"
   ]
  },
  {
   "cell_type": "code",
   "execution_count": 25,
   "id": "04a1e153-9551-4558-a7d6-0a467ccf0ba0",
   "metadata": {},
   "outputs": [
    {
     "data": {
      "text/plain": [
       "('my name is { } kumar', 'sufh')"
      ]
     },
     "execution_count": 25,
     "metadata": {},
     "output_type": "execute_result"
    }
   ],
   "source": [
    "'my name is { } kumar',format('sufh')"
   ]
  },
  {
   "cell_type": "code",
   "execution_count": 26,
   "id": "964a0aae-7a25-471d-808b-d1135332b835",
   "metadata": {},
   "outputs": [
    {
     "name": "stdin",
     "output_type": "stream",
     "text": [
      "enter name sdfd\n"
     ]
    },
    {
     "data": {
      "text/plain": [
       "('my name is {}', 'sdfd')"
      ]
     },
     "execution_count": 26,
     "metadata": {},
     "output_type": "execute_result"
    }
   ],
   "source": [
    "a=input(\"enter name\")\n",
    "\"my name is {}\" ,format(a)"
   ]
  },
  {
   "cell_type": "code",
   "execution_count": 36,
   "id": "aaaf355f-cc87-4824-9595-de178f6c8dd1",
   "metadata": {},
   "outputs": [
    {
     "data": {
      "text/plain": [
       "True"
      ]
     },
     "execution_count": 36,
     "metadata": {},
     "output_type": "execute_result"
    }
   ],
   "source": [
    "s=\"HELLO\"\n",
    "s.isalnum()"
   ]
  },
  {
   "cell_type": "code",
   "execution_count": 37,
   "id": "e36d982e-718f-4b92-b28a-64c2e590405c",
   "metadata": {},
   "outputs": [
    {
     "data": {
      "text/plain": [
       "True"
      ]
     },
     "execution_count": 37,
     "metadata": {},
     "output_type": "execute_result"
    }
   ],
   "source": [
    "s.isalpha()"
   ]
  },
  {
   "cell_type": "code",
   "execution_count": 38,
   "id": "46797629-fb87-4cfe-a258-681eea86dbac",
   "metadata": {},
   "outputs": [
    {
     "data": {
      "text/plain": [
       "False"
      ]
     },
     "execution_count": 38,
     "metadata": {},
     "output_type": "execute_result"
    }
   ],
   "source": [
    "d=\"34ffdgLO\"\n",
    "d.isalpha()"
   ]
  },
  {
   "cell_type": "code",
   "execution_count": 41,
   "id": "ddbc15dc-049c-490d-aded-7ba7b59fd7e6",
   "metadata": {},
   "outputs": [
    {
     "data": {
      "text/plain": [
       "True"
      ]
     },
     "execution_count": 41,
     "metadata": {},
     "output_type": "execute_result"
    }
   ],
   "source": [
    "d=\"fdg\"\n",
    "d.islower()"
   ]
  },
  {
   "cell_type": "code",
   "execution_count": 42,
   "id": "6779b0bf-2bb3-4fc0-ac1f-270c9831b6c9",
   "metadata": {},
   "outputs": [
    {
     "data": {
      "text/plain": [
       "'USPA'"
      ]
     },
     "execution_count": 42,
     "metadata": {},
     "output_type": "execute_result"
    }
   ],
   "source": [
    "s=\"USPA\"\n",
    "s.upper()"
   ]
  },
  {
   "cell_type": "code",
   "execution_count": 43,
   "id": "b12c65a1-f164-4f39-b22c-ec250914214c",
   "metadata": {},
   "outputs": [
    {
     "data": {
      "text/plain": [
       "False"
      ]
     },
     "execution_count": 43,
     "metadata": {},
     "output_type": "execute_result"
    }
   ],
   "source": [
    "d=\"fdg\"\n",
    "d.istitle()"
   ]
  },
  {
   "cell_type": "code",
   "execution_count": 44,
   "id": "68f5057f-4127-40ab-b3dd-eed6c869c4bb",
   "metadata": {},
   "outputs": [
    {
     "data": {
      "text/plain": [
       "False"
      ]
     },
     "execution_count": 44,
     "metadata": {},
     "output_type": "execute_result"
    }
   ],
   "source": [
    "d=\"fdg\"\n",
    "d.endswith('j')"
   ]
  },
  {
   "cell_type": "code",
   "execution_count": 45,
   "id": "97bf05b4-9c2e-472a-8aa2-2a4f45484c92",
   "metadata": {},
   "outputs": [
    {
     "data": {
      "text/plain": [
       "3"
      ]
     },
     "execution_count": 45,
     "metadata": {},
     "output_type": "execute_result"
    }
   ],
   "source": [
    "len(d)"
   ]
  },
  {
   "cell_type": "code",
   "execution_count": 47,
   "id": "62abe967-e879-48bf-9aff-0f186a37836f",
   "metadata": {},
   "outputs": [
    {
     "data": {
      "text/plain": [
       "[1, 2, 3, 4, 'dojh', 2]"
      ]
     },
     "execution_count": 47,
     "metadata": {},
     "output_type": "execute_result"
    }
   ],
   "source": [
    "b=[1,2,3,4,'dojh']\n",
    "b.append(2) # append fun always append the value on the l;ast position\n",
    "b"
   ]
  },
  {
   "cell_type": "code",
   "execution_count": 52,
   "id": "61310459-b55c-43b7-b57d-2d3a8d80ea6c",
   "metadata": {},
   "outputs": [
    {
     "data": {
      "text/plain": [
       "[1, 2, 3, 'dug', 4, 'dojh']"
      ]
     },
     "execution_count": 52,
     "metadata": {},
     "output_type": "execute_result"
    }
   ],
   "source": [
    "b=[1,2,3,4,'dojh']\n",
    "b.insert(3,\"dug\")# insert(index,value)\n",
    "b"
   ]
  },
  {
   "cell_type": "code",
   "execution_count": 54,
   "id": "6dcda21d-701f-4774-a5ae-b6901fd94a34",
   "metadata": {},
   "outputs": [
    {
     "data": {
      "text/plain": [
       "[1, 2, 3, 4, 'duwedwdg', 'dojh']"
      ]
     },
     "execution_count": 54,
     "metadata": {},
     "output_type": "execute_result"
    }
   ],
   "source": [
    "b=[1,2,3,4,'dojh']\n",
    "b.insert(-1,\"duwedwdg\")\n",
    "b # insert data before index if ur using -1."
   ]
  },
  {
   "cell_type": "code",
   "execution_count": 55,
   "id": "241e6de5-e009-4d1e-ace7-ed78754ddd90",
   "metadata": {},
   "outputs": [
    {
     "data": {
      "text/plain": [
       "3"
      ]
     },
     "execution_count": 55,
     "metadata": {},
     "output_type": "execute_result"
    }
   ],
   "source": [
    "b=[1,2,3,4,'dojh']\n",
    "b.pop(2)# poping the value in 2nd index"
   ]
  },
  {
   "cell_type": "code",
   "execution_count": 64,
   "id": "d35fb51e-5790-4b5c-a550-57f047ce010b",
   "metadata": {},
   "outputs": [
    {
     "data": {
      "text/plain": [
       "'2434dojh'"
      ]
     },
     "execution_count": 64,
     "metadata": {},
     "output_type": "execute_result"
    }
   ],
   "source": [
    "b=[1,2,3,4,'2434dojh']\n",
    "b.pop() # pop last element"
   ]
  },
  {
   "cell_type": "code",
   "execution_count": 63,
   "id": "000b82bd-db62-4ad7-9953-36999efc79ec",
   "metadata": {},
   "outputs": [
    {
     "data": {
      "text/plain": [
       "['wredojh', 4, 3, 2, 1]"
      ]
     },
     "execution_count": 63,
     "metadata": {},
     "output_type": "execute_result"
    }
   ],
   "source": [
    "b=[1,2,3,4,'wredojh']\n",
    "b[::-1] # reversing the list"
   ]
  },
  {
   "cell_type": "code",
   "execution_count": 62,
   "id": "23f856df-2669-4347-ab95-7e9df02f7af5",
   "metadata": {},
   "outputs": [
    {
     "data": {
      "text/plain": [
       "['dorejh', 4, 3, 2, 1]"
      ]
     },
     "execution_count": 62,
     "metadata": {},
     "output_type": "execute_result"
    }
   ],
   "source": [
    "b=[1,2,3,4,'dorejh']\n",
    "b.reverse() # reverse function\n",
    "b"
   ]
  },
  {
   "cell_type": "code",
   "execution_count": 65,
   "id": "5f4aae25-7c27-4d66-a9f8-d548d80ca036",
   "metadata": {},
   "outputs": [
    {
     "ename": "TypeError",
     "evalue": "'<' not supported between instances of 'str' and 'int'",
     "output_type": "error",
     "traceback": [
      "\u001b[0;31m---------------------------------------------------------------------------\u001b[0m",
      "\u001b[0;31mTypeError\u001b[0m                                 Traceback (most recent call last)",
      "Cell \u001b[0;32mIn[65], line 2\u001b[0m\n\u001b[1;32m      1\u001b[0m b\u001b[38;5;241m=\u001b[39m[\u001b[38;5;241m1\u001b[39m,\u001b[38;5;241m455\u001b[39m,\u001b[38;5;241m4332\u001b[39m,\u001b[38;5;241m3\u001b[39m,\u001b[38;5;241m4\u001b[39m,\u001b[38;5;124m'\u001b[39m\u001b[38;5;124mdorejh\u001b[39m\u001b[38;5;124m'\u001b[39m]\n\u001b[0;32m----> 2\u001b[0m \u001b[43mb\u001b[49m\u001b[38;5;241;43m.\u001b[39;49m\u001b[43msort\u001b[49m\u001b[43m(\u001b[49m\u001b[43m)\u001b[49m\n",
      "\u001b[0;31mTypeError\u001b[0m: '<' not supported between instances of 'str' and 'int'"
     ]
    }
   ],
   "source": [
    "b=[1,455,4332,3,4,'dorejh']\n",
    "b.sort() # it is not supported between instances of 'str' and 'int'"
   ]
  },
  {
   "cell_type": "code",
   "execution_count": 67,
   "id": "219e534b-3ed2-4005-8f6a-8040e2f37121",
   "metadata": {},
   "outputs": [
    {
     "data": {
      "text/plain": [
       "[1, 3, 4, 5, 455, 4332]"
      ]
     },
     "execution_count": 67,
     "metadata": {},
     "output_type": "execute_result"
    }
   ],
   "source": [
    "b=[1,455,4332,3,4,5]\n",
    "b.sort() # sorting , need to give only one type of database\n",
    "b"
   ]
  },
  {
   "cell_type": "code",
   "execution_count": 68,
   "id": "af33308f-c191-4948-b4d3-af9e2f303021",
   "metadata": {},
   "outputs": [
    {
     "data": {
      "text/plain": [
       "[4332, 455, 5, 4, 3, 1]"
      ]
     },
     "execution_count": 68,
     "metadata": {},
     "output_type": "execute_result"
    }
   ],
   "source": [
    "b=[1,455,4332,3,4,5]\n",
    "b.sort(reverse=True) # descensing\n",
    "b"
   ]
  },
  {
   "cell_type": "code",
   "execution_count": 70,
   "id": "a34a2802-4f1a-47a1-9066-29947dcd5f60",
   "metadata": {},
   "outputs": [
    {
     "data": {
      "text/plain": [
       "[[1, 2, 3, 4, 5, 76], [13, 3, 221, 56, 332], [423, 21, 42, 53, 8, 4, 3, 5, 9]]"
      ]
     },
     "execution_count": 70,
     "metadata": {},
     "output_type": "execute_result"
    }
   ],
   "source": [
    "a=[1,2,3,4,5,76]\n",
    "b=[13,3,221,56,332]\n",
    "c=[423,21,42,53,8,4,3,5,9]\n",
    "d=[a,b,c]\n",
    "d"
   ]
  },
  {
   "cell_type": "code",
   "execution_count": 73,
   "id": "a2fce2d0-1356-47f9-b965-15f74572a6e2",
   "metadata": {},
   "outputs": [
    {
     "data": {
      "text/plain": [
       "[21, 42, 53, 8, 4, 3, 5, 9]"
      ]
     },
     "execution_count": 73,
     "metadata": {},
     "output_type": "execute_result"
    }
   ],
   "source": [
    "a=[1,2,3,4,5,76]\n",
    "b=[13,3,221,56,332]\n",
    "c=[21,42,53,8,4,3,5,9]\n",
    "d=[a,b,c]\n",
    "d[-1] # it will print the list c"
   ]
  },
  {
   "cell_type": "code",
   "execution_count": 74,
   "id": "e0229cd5-e69a-4062-9afd-11f6a666ee48",
   "metadata": {},
   "outputs": [
    {
     "data": {
      "text/plain": [
       "[21, 8, 5]"
      ]
     },
     "execution_count": 74,
     "metadata": {},
     "output_type": "execute_result"
    }
   ],
   "source": [
    "d[-1][::3]"
   ]
  },
  {
   "cell_type": "code",
   "execution_count": 76,
   "id": "27641e4d-133c-400b-8d98-a10336eb9fe5",
   "metadata": {},
   "outputs": [
    {
     "data": {
      "text/plain": [
       "[9, 5, 3, 4, 8, 53, 42, 21]"
      ]
     },
     "execution_count": 76,
     "metadata": {},
     "output_type": "execute_result"
    }
   ],
   "source": [
    "a=[1,2,3,4,5,76]\n",
    "b=[13,3,221,56,332]\n",
    "c=[21,42,53,8,4,3,5,9]\n",
    "d=[a,b,c]\n",
    "e=d[::-1]\n",
    "m=[]\n",
    "for i in e:\n",
    "    m.append(b[::-1])\n",
    "m"
   ]
  },
  {
   "cell_type": "code",
   "execution_count": null,
   "id": "743153c5-927c-4a9c-86ba-731e908a6fb0",
   "metadata": {},
   "outputs": [],
   "source": []
  }
 ],
 "metadata": {
  "kernelspec": {
   "display_name": "Python 3 (ipykernel)",
   "language": "python",
   "name": "python3"
  },
  "language_info": {
   "codemirror_mode": {
    "name": "ipython",
    "version": 3
   },
   "file_extension": ".py",
   "mimetype": "text/x-python",
   "name": "python",
   "nbconvert_exporter": "python",
   "pygments_lexer": "ipython3",
   "version": "3.8.10"
  }
 },
 "nbformat": 4,
 "nbformat_minor": 5
}
