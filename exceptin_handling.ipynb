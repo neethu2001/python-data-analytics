{
 "cells": [
  {
   "cell_type": "code",
   "execution_count": 6,
   "id": "612c6138-73e3-48c8-94db-3c21009946a0",
   "metadata": {},
   "outputs": [
    {
     "name": "stdout",
     "output_type": "stream",
     "text": [
      "this file is notavailable\n",
      "9\n",
      "[Errno 2] No such file or directory: 'xyz.txt'\n"
     ]
    }
   ],
   "source": [
    "try:\n",
    "    f=open(\"xyz.txt\")\n",
    "    f.write(\"asadadad\")\n",
    "except:\n",
    "    print(\"this file is notavailable\")\n",
    "else:\n",
    "    print(\"fgds\")\n",
    "finally:\n",
    "    print(4+5)\n",
    "    try:\n",
    "        f=open(\"xyz.txt\")\n",
    "    except Exception as e:\n",
    "        print(e)\n",
    "# we can write try and except anywhere. there is no limitation.    "
   ]
  },
  {
   "cell_type": "code",
   "execution_count": 9,
   "id": "70f82314-a42a-4607-8d56-1692fd17f2bb",
   "metadata": {},
   "outputs": [
    {
     "name": "stdin",
     "output_type": "stream",
     "text": [
      "plz try to enter an integer dffdf\n"
     ]
    },
    {
     "name": "stdout",
     "output_type": "stream",
     "text": [
      "invalid literal for int() with base 10: 'dffdf'\n",
      "this is finally block to execute this forsure\n"
     ]
    },
    {
     "ename": "UnboundLocalError",
     "evalue": "cannot access local variable 'v' where it is not associated with a value",
     "output_type": "error",
     "traceback": [
      "\u001b[1;31m---------------------------------------------------------------------------\u001b[0m",
      "\u001b[1;31mUnboundLocalError\u001b[0m                         Traceback (most recent call last)",
      "Cell \u001b[1;32mIn[9], line 9\u001b[0m\n\u001b[0;32m      7\u001b[0m         \u001b[38;5;28mprint\u001b[39m(\u001b[38;5;124m\"\u001b[39m\u001b[38;5;124mthis is finally block to execute this forsure\u001b[39m\u001b[38;5;124m\"\u001b[39m)\n\u001b[0;32m      8\u001b[0m         \u001b[38;5;28mprint\u001b[39m(v)\n\u001b[1;32m----> 9\u001b[0m \u001b[43maskint\u001b[49m\u001b[43m(\u001b[49m\u001b[43m)\u001b[49m\n\u001b[0;32m     10\u001b[0m \u001b[38;5;66;03m#if am giving input as str. system will generate one message\u001b[39;00m\n",
      "Cell \u001b[1;32mIn[9], line 8\u001b[0m, in \u001b[0;36maskint\u001b[1;34m()\u001b[0m\n\u001b[0;32m      6\u001b[0m \u001b[38;5;28;01mfinally\u001b[39;00m:\n\u001b[0;32m      7\u001b[0m     \u001b[38;5;28mprint\u001b[39m(\u001b[38;5;124m\"\u001b[39m\u001b[38;5;124mthis is finally block to execute this forsure\u001b[39m\u001b[38;5;124m\"\u001b[39m)\n\u001b[1;32m----> 8\u001b[0m     \u001b[38;5;28mprint\u001b[39m(\u001b[43mv\u001b[49m)\n",
      "\u001b[1;31mUnboundLocalError\u001b[0m: cannot access local variable 'v' where it is not associated with a value"
     ]
    }
   ],
   "source": [
    "def askint():\n",
    "    try:\n",
    "        v=int(input(\"plz try to enter an integer\"))\n",
    "    except Exception as e:\n",
    "        print(e)\n",
    "    finally:\n",
    "        print(\"this is finally block to execute this forsure\")\n",
    "        print(v)\n",
    "askint()\n",
    "#if am giving input as str. system will generate one message\n",
    "# here finally will not gonna work, because we added a stringinstead of int.\n",
    "#so we need to use try block,"
   ]
  },
  {
   "cell_type": "code",
   "execution_count": 10,
   "id": "498b6977-a7e5-4a1e-9ece-9ad96849947f",
   "metadata": {},
   "outputs": [
    {
     "name": "stdin",
     "output_type": "stream",
     "text": [
      "plz try to enter an integer dxvxx\n"
     ]
    },
    {
     "name": "stdout",
     "output_type": "stream",
     "text": [
      "invalid literal for int() with base 10: 'dxvxx'\n",
      "this is finally block to execute this forsure\n",
      "cannot access local variable 'v' where it is not associated with a value\n"
     ]
    }
   ],
   "source": [
    "def askint():\n",
    "    try:\n",
    "        v=int(input(\"plz try to enter an integer\"))\n",
    "    except Exception as e:\n",
    "        print(e)\n",
    "    finally:\n",
    "        print(\"this is finally block to execute this forsure\")\n",
    "        try:\n",
    "            print(v)\n",
    "        except Exception as e:\n",
    "            print(e)\n",
    "askint()"
   ]
  },
  {
   "cell_type": "code",
   "execution_count": 11,
   "id": "6533b3ea-c4b3-4069-8ddf-68be5fc5a8ce",
   "metadata": {},
   "outputs": [
    {
     "name": "stdin",
     "output_type": "stream",
     "text": [
      "plz try to enter an integer 121111112\n"
     ]
    },
    {
     "name": "stdout",
     "output_type": "stream",
     "text": [
      "this is finally block to execute this forsure\n",
      "121111112\n"
     ]
    }
   ],
   "source": [
    "def askint():\n",
    "    try:\n",
    "        v=int(input(\"plz try to enter an integer\"))\n",
    "    except Exception as e:\n",
    "        print(e)\n",
    "    finally:\n",
    "        print(\"this is finally block to execute this forsure\")\n",
    "        try:\n",
    "            print(v)\n",
    "        except Exception as e:\n",
    "            print(e)\n",
    "askint()\n"
   ]
  },
  {
   "cell_type": "code",
   "execution_count": 12,
   "id": "4ac62027-c490-4b37-8cde-c2c06371357e",
   "metadata": {},
   "outputs": [
    {
     "name": "stdin",
     "output_type": "stream",
     "text": [
      "plz try to enter an integer 45\n"
     ]
    },
    {
     "name": "stdout",
     "output_type": "stream",
     "text": [
      "this is finally block to execute this forsure\n",
      "45\n",
      "i have a value of v\n"
     ]
    }
   ],
   "source": [
    "def askint():\n",
    "    try:\n",
    "        v=int(input(\"plz try to enter an integer\"))\n",
    "    except Exception as e:\n",
    "        print(e)\n",
    "    finally:\n",
    "        print(\"this is finally block to execute this forsure\")\n",
    "        try:\n",
    "            print(v)\n",
    "        except Exception as e:\n",
    "            print(e)\n",
    "        else:\n",
    "            print(\"i have a value of v\")\n",
    "askint()\n"
   ]
  },
  {
   "cell_type": "code",
   "execution_count": 16,
   "id": "6ba1762b-abef-4b96-8ed3-a3b96598ac2b",
   "metadata": {},
   "outputs": [
    {
     "name": "stdin",
     "output_type": "stream",
     "text": [
      "plz try to enter an integer 45\n"
     ]
    },
    {
     "name": "stdout",
     "output_type": "stream",
     "text": [
      "this is finally block to execute this forsure\n",
      "this is finally block to execute this forsure\n"
     ]
    },
    {
     "ename": "KeyboardInterrupt",
     "evalue": "Interrupted by user",
     "output_type": "error",
     "traceback": [
      "\u001b[1;31m---------------------------------------------------------------------------\u001b[0m",
      "\u001b[1;31mKeyboardInterrupt\u001b[0m                         Traceback (most recent call last)",
      "Cell \u001b[1;32mIn[16], line 11\u001b[0m\n\u001b[0;32m      8\u001b[0m         \u001b[38;5;28;01mfinally\u001b[39;00m:\n\u001b[0;32m      9\u001b[0m             \u001b[38;5;28mprint\u001b[39m(\u001b[38;5;124m\"\u001b[39m\u001b[38;5;124mthis is finally block to execute this forsure\u001b[39m\u001b[38;5;124m\"\u001b[39m)\n\u001b[1;32m---> 11\u001b[0m \u001b[43maskint\u001b[49m\u001b[43m(\u001b[49m\u001b[43m)\u001b[49m\n",
      "Cell \u001b[1;32mIn[16], line 4\u001b[0m, in \u001b[0;36maskint\u001b[1;34m()\u001b[0m\n\u001b[0;32m      2\u001b[0m \u001b[38;5;28;01mwhile\u001b[39;00m \u001b[38;5;28;01mTrue\u001b[39;00m:\n\u001b[0;32m      3\u001b[0m     \u001b[38;5;28;01mtry\u001b[39;00m:\n\u001b[1;32m----> 4\u001b[0m         v\u001b[38;5;241m=\u001b[39m\u001b[38;5;28mint\u001b[39m(\u001b[38;5;28;43minput\u001b[39;49m\u001b[43m(\u001b[49m\u001b[38;5;124;43m\"\u001b[39;49m\u001b[38;5;124;43mplz try to enter an integer\u001b[39;49m\u001b[38;5;124;43m\"\u001b[39;49m\u001b[43m)\u001b[49m)\n\u001b[0;32m      5\u001b[0m     \u001b[38;5;28;01mexcept\u001b[39;00m \u001b[38;5;167;01mException\u001b[39;00m \u001b[38;5;28;01mas\u001b[39;00m e:\n\u001b[0;32m      6\u001b[0m         \u001b[38;5;28mprint\u001b[39m(e) \u001b[38;5;66;03m#it will ask input until we are givingthe exact input as int\u001b[39;00m\n",
      "File \u001b[1;32mC:\\Python312\\Lib\\site-packages\\ipykernel\\kernelbase.py:1282\u001b[0m, in \u001b[0;36mKernel.raw_input\u001b[1;34m(self, prompt)\u001b[0m\n\u001b[0;32m   1280\u001b[0m     msg \u001b[38;5;241m=\u001b[39m \u001b[38;5;124m\"\u001b[39m\u001b[38;5;124mraw_input was called, but this frontend does not support input requests.\u001b[39m\u001b[38;5;124m\"\u001b[39m\n\u001b[0;32m   1281\u001b[0m     \u001b[38;5;28;01mraise\u001b[39;00m StdinNotImplementedError(msg)\n\u001b[1;32m-> 1282\u001b[0m \u001b[38;5;28;01mreturn\u001b[39;00m \u001b[38;5;28;43mself\u001b[39;49m\u001b[38;5;241;43m.\u001b[39;49m\u001b[43m_input_request\u001b[49m\u001b[43m(\u001b[49m\n\u001b[0;32m   1283\u001b[0m \u001b[43m    \u001b[49m\u001b[38;5;28;43mstr\u001b[39;49m\u001b[43m(\u001b[49m\u001b[43mprompt\u001b[49m\u001b[43m)\u001b[49m\u001b[43m,\u001b[49m\n\u001b[0;32m   1284\u001b[0m \u001b[43m    \u001b[49m\u001b[38;5;28;43mself\u001b[39;49m\u001b[38;5;241;43m.\u001b[39;49m\u001b[43m_parent_ident\u001b[49m\u001b[43m[\u001b[49m\u001b[38;5;124;43m\"\u001b[39;49m\u001b[38;5;124;43mshell\u001b[39;49m\u001b[38;5;124;43m\"\u001b[39;49m\u001b[43m]\u001b[49m\u001b[43m,\u001b[49m\n\u001b[0;32m   1285\u001b[0m \u001b[43m    \u001b[49m\u001b[38;5;28;43mself\u001b[39;49m\u001b[38;5;241;43m.\u001b[39;49m\u001b[43mget_parent\u001b[49m\u001b[43m(\u001b[49m\u001b[38;5;124;43m\"\u001b[39;49m\u001b[38;5;124;43mshell\u001b[39;49m\u001b[38;5;124;43m\"\u001b[39;49m\u001b[43m)\u001b[49m\u001b[43m,\u001b[49m\n\u001b[0;32m   1286\u001b[0m \u001b[43m    \u001b[49m\u001b[43mpassword\u001b[49m\u001b[38;5;241;43m=\u001b[39;49m\u001b[38;5;28;43;01mFalse\u001b[39;49;00m\u001b[43m,\u001b[49m\n\u001b[0;32m   1287\u001b[0m \u001b[43m\u001b[49m\u001b[43m)\u001b[49m\n",
      "File \u001b[1;32mC:\\Python312\\Lib\\site-packages\\ipykernel\\kernelbase.py:1325\u001b[0m, in \u001b[0;36mKernel._input_request\u001b[1;34m(self, prompt, ident, parent, password)\u001b[0m\n\u001b[0;32m   1322\u001b[0m \u001b[38;5;28;01mexcept\u001b[39;00m \u001b[38;5;167;01mKeyboardInterrupt\u001b[39;00m:\n\u001b[0;32m   1323\u001b[0m     \u001b[38;5;66;03m# re-raise KeyboardInterrupt, to truncate traceback\u001b[39;00m\n\u001b[0;32m   1324\u001b[0m     msg \u001b[38;5;241m=\u001b[39m \u001b[38;5;124m\"\u001b[39m\u001b[38;5;124mInterrupted by user\u001b[39m\u001b[38;5;124m\"\u001b[39m\n\u001b[1;32m-> 1325\u001b[0m     \u001b[38;5;28;01mraise\u001b[39;00m \u001b[38;5;167;01mKeyboardInterrupt\u001b[39;00m(msg) \u001b[38;5;28;01mfrom\u001b[39;00m \u001b[38;5;28;01mNone\u001b[39;00m\n\u001b[0;32m   1326\u001b[0m \u001b[38;5;28;01mexcept\u001b[39;00m \u001b[38;5;167;01mException\u001b[39;00m:\n\u001b[0;32m   1327\u001b[0m     \u001b[38;5;28mself\u001b[39m\u001b[38;5;241m.\u001b[39mlog\u001b[38;5;241m.\u001b[39mwarning(\u001b[38;5;124m\"\u001b[39m\u001b[38;5;124mInvalid Message:\u001b[39m\u001b[38;5;124m\"\u001b[39m, exc_info\u001b[38;5;241m=\u001b[39m\u001b[38;5;28;01mTrue\u001b[39;00m)\n",
      "\u001b[1;31mKeyboardInterrupt\u001b[0m: Interrupted by user"
     ]
    }
   ],
   "source": [
    "def askint():\n",
    "    while True:\n",
    "        try:\n",
    "            v=int(input(\"plz try to enter an integer\"))\n",
    "        except Exception as e:\n",
    "            print(e) #it will ask input until we are givingthe exact input as int\n",
    "            continue\n",
    "        finally:\n",
    "            print(\"this is finally block to execute this forsure\")\n",
    "       \n",
    "askint()"
   ]
  },
  {
   "cell_type": "code",
   "execution_count": 14,
   "id": "98289b47-bddb-43e3-97d5-0d2d6b5a4c6f",
   "metadata": {},
   "outputs": [
    {
     "name": "stdin",
     "output_type": "stream",
     "text": [
      "plz try to enter an integer 4re\n"
     ]
    },
    {
     "name": "stdout",
     "output_type": "stream",
     "text": [
      "invalid literal for int() with base 10: '4re'\n",
      "this is finally block to execute this forsure\n"
     ]
    }
   ],
   "source": [
    "def askint():\n",
    "    while True:\n",
    "        try:\n",
    "            v=int(input(\"plz try to enter an integer\"))\n",
    "        except Exception as e:\n",
    "            print(e) #it will ask input until we are givingthe exact input as int\n",
    "            break\n",
    "        finally:\n",
    "            print(\"this is finally block to execute this forsure\")\n",
    "       \n",
    "askint()"
   ]
  },
  {
   "cell_type": "code",
   "execution_count": 17,
   "id": "3977d882-3800-4198-8e3f-899a5c58f9a3",
   "metadata": {},
   "outputs": [
    {
     "name": "stdout",
     "output_type": "stream",
     "text": [
      "there is an error in the code\n"
     ]
    }
   ],
   "source": [
    "try:\n",
    "    f=open(\"xyz.txt\")\n",
    "    f.write(\"asadadad\")\n",
    "except IOError:#input outpput error\n",
    "    print(\"there is an error in the code\")\n",
    "    #OSError-operating system error\n",
    "    #until you are not sure about error don't write that error name\n",
    "    #FileExistsError-\n",
    "    #value error"
   ]
  },
  {
   "cell_type": "code",
   "execution_count": 20,
   "id": "8fa2ef3c-4e4f-4d05-ac45-dece0fa9bce8",
   "metadata": {},
   "outputs": [
    {
     "name": "stdout",
     "output_type": "stream",
     "text": [
      "file not found error\n"
     ]
    }
   ],
   "source": [
    "try:\n",
    "    f=open(\"xyz.txt\")\n",
    "    f.write(\"asadadad\")\n",
    "except FileExistsError as e:\n",
    "    print(e)\n",
    "except ValueError:\n",
    "    print(\"this we are going to atch value error\")\n",
    "except FileNotFoundError:\n",
    "    print(\"file not found error\")\n",
    "except OSError:\n",
    "    print(\"this is oserror\")\n",
    "except IOError:\n",
    "    print(\"this is input error\")\n",
    "except Exception as e:\n",
    "    print(\"thisis superc\")\n",
    "\n",
    "#EXCEPTION HANDLING"
   ]
  },
  {
   "cell_type": "code",
   "execution_count": 21,
   "id": "b1876aec-ba88-413f-a3df-dadf1d132cb2",
   "metadata": {},
   "outputs": [
    {
     "name": "stdout",
     "output_type": "stream",
     "text": [
      "there is a error in my code\n"
     ]
    }
   ],
   "source": [
    "try:\n",
    "    f=open(\"xyz.txt\")\n",
    "    f.write(\"sdssdsa\")\n",
    "except (FileExistsError,ValueError,FileNotFoundError,OSError,IOError):\n",
    "    print(\"there is a error in my code\")"
   ]
  },
  {
   "cell_type": "code",
   "execution_count": 23,
   "id": "e28c664d-b946-48b3-8424-5d6c85d4c846",
   "metadata": {},
   "outputs": [
    {
     "name": "stdin",
     "output_type": "stream",
     "text": [
      "try to insert an integer 1\n"
     ]
    },
    {
     "name": "stdout",
     "output_type": "stream",
     "text": [
      "this is not a integer looking for\n"
     ]
    }
   ],
   "source": [
    "try:\n",
    "    v=int(input(\"try to insert an integer\"))\n",
    "    if v<2:\n",
    "        raise ValueError(\"this is not a integer looking for\")#overriden system exception\n",
    "except ValueError as e:\n",
    "    print(e)"
   ]
  },
  {
   "cell_type": "code",
   "execution_count": 25,
   "id": "c860efc2-1586-4a56-9e6c-cbead53be9c1",
   "metadata": {},
   "outputs": [
    {
     "name": "stdin",
     "output_type": "stream",
     "text": [
      "try to insert an integer 2\n"
     ]
    },
    {
     "name": "stdout",
     "output_type": "stream",
     "text": [
      "this is not a integer looking for\n"
     ]
    }
   ],
   "source": [
    "try:\n",
    "    v=int(input(\"try to insert an integer\"))\n",
    "    f=56/v\n",
    "    if v==2:\n",
    "        raise ValueError(\"this is not a integer looking for\")#overriden system exception\n",
    "except ValueError as e:\n",
    "    print(e)\n",
    "#raise keyword help to raise  your own  error"
   ]
  },
  {
   "cell_type": "code",
   "execution_count": null,
   "id": "9db95d2b-08ec-42d2-9e50-fc6bce1b2c4b",
   "metadata": {},
   "outputs": [],
   "source": []
  },
  {
   "cell_type": "code",
   "execution_count": null,
   "id": "d361b069-e612-4c65-a91b-27f68a2b1f0b",
   "metadata": {},
   "outputs": [],
   "source": []
  }
 ],
 "metadata": {
  "kernelspec": {
   "display_name": "Python 3 (ipykernel)",
   "language": "python",
   "name": "python3"
  },
  "language_info": {
   "codemirror_mode": {
    "name": "ipython",
    "version": 3
   },
   "file_extension": ".py",
   "mimetype": "text/x-python",
   "name": "python",
   "nbconvert_exporter": "python",
   "pygments_lexer": "ipython3",
   "version": "3.12.1"
  }
 },
 "nbformat": 4,
 "nbformat_minor": 5
}
