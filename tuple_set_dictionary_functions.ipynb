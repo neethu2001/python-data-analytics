{
 "cells": [
  {
   "cell_type": "code",
   "execution_count": 5,
   "id": "902b26f5-ded2-4d32-b31d-6fddc4f1908d",
   "metadata": {},
   "outputs": [
    {
     "data": {
      "text/plain": [
       "list"
      ]
     },
     "execution_count": 5,
     "metadata": {},
     "output_type": "execute_result"
    }
   ],
   "source": [
    "l=[4,5,6,\"sudh\"] # list\n",
    "type(l)"
   ]
  },
  {
   "cell_type": "code",
   "execution_count": 6,
   "id": "e9a7b7e6-11cb-45cb-949c-96a6ead58b86",
   "metadata": {},
   "outputs": [
    {
     "data": {
      "text/plain": [
       "[4, 5, 6, 'sudh']"
      ]
     },
     "execution_count": 6,
     "metadata": {},
     "output_type": "execute_result"
    }
   ],
   "source": [
    "l"
   ]
  },
  {
   "cell_type": "code",
   "execution_count": 8,
   "id": "ca888da6-e24c-4a78-953b-c8ba348df29f",
   "metadata": {},
   "outputs": [
    {
     "data": {
      "text/plain": [
       "tuple"
      ]
     },
     "execution_count": 8,
     "metadata": {},
     "output_type": "execute_result"
    }
   ],
   "source": [
    "t=(1,2,3,4,\"sufh\",7.6,5+8j) # tuple\n",
    "type(t)"
   ]
  },
  {
   "cell_type": "code",
   "execution_count": 9,
   "id": "696a9a4a-0883-40dd-9d5e-887485d9d65c",
   "metadata": {},
   "outputs": [
    {
     "data": {
      "text/plain": [
       "(1, 2, 3, 4, 'sufh', 7.6, (5+8j))"
      ]
     },
     "execution_count": 9,
     "metadata": {},
     "output_type": "execute_result"
    }
   ],
   "source": [
    "t"
   ]
  },
  {
   "cell_type": "code",
   "execution_count": 10,
   "id": "443e4a23-fad4-421d-b77a-19a087cbbf0e",
   "metadata": {},
   "outputs": [
    {
     "data": {
      "text/plain": [
       "1"
      ]
     },
     "execution_count": 10,
     "metadata": {},
     "output_type": "execute_result"
    }
   ],
   "source": [
    "t[0]"
   ]
  },
  {
   "cell_type": "code",
   "execution_count": 11,
   "id": "0ff9cbfc-2e82-459f-b542-73c48e3b62f3",
   "metadata": {},
   "outputs": [
    {
     "data": {
      "text/plain": [
       "(5+8j)"
      ]
     },
     "execution_count": 11,
     "metadata": {},
     "output_type": "execute_result"
    }
   ],
   "source": [
    "t[-1]"
   ]
  },
  {
   "cell_type": "code",
   "execution_count": 13,
   "id": "7b2c5ac7-9caf-4daa-ab50-b42a06f609da",
   "metadata": {},
   "outputs": [
    {
     "data": {
      "text/plain": [
       "((5+8j), 7.6, 'sufh', 4, 3, 2, 1)"
      ]
     },
     "execution_count": 13,
     "metadata": {},
     "output_type": "execute_result"
    }
   ],
   "source": [
    "t[:: -1] # no difference between slicing in list and tuple\n",
    "# no difference between in entity or functionality in list & tuple"
   ]
  },
  {
   "cell_type": "code",
   "execution_count": 14,
   "id": "c5d331a2-46a4-464b-a9b8-c0f9ba6abdac",
   "metadata": {},
   "outputs": [
    {
     "data": {
      "text/plain": [
       "7"
      ]
     },
     "execution_count": 14,
     "metadata": {},
     "output_type": "execute_result"
    }
   ],
   "source": [
    "len(t)"
   ]
  },
  {
   "cell_type": "code",
   "execution_count": 16,
   "id": "24a67be2-9e81-44bf-a820-76086b424f08",
   "metadata": {},
   "outputs": [
    {
     "data": {
      "text/plain": [
       "['kumar', 2, 3, 4]"
      ]
     },
     "execution_count": 16,
     "metadata": {},
     "output_type": "execute_result"
    }
   ],
   "source": [
    "l=[1,2,3,4]\n",
    "l[0]=\"kumar\"\n",
    "l # list support item reassignment - mutable"
   ]
  },
  {
   "cell_type": "code",
   "execution_count": 17,
   "id": "24686395-4625-4e47-b526-7bd966ada079",
   "metadata": {},
   "outputs": [
    {
     "ename": "TypeError",
     "evalue": "'tuple' object does not support item assignment",
     "output_type": "error",
     "traceback": [
      "\u001b[0;31m---------------------------------------------------------------------------\u001b[0m",
      "\u001b[0;31mTypeError\u001b[0m                                 Traceback (most recent call last)",
      "Cell \u001b[0;32mIn[17], line 2\u001b[0m\n\u001b[1;32m      1\u001b[0m t\u001b[38;5;241m=\u001b[39m(\u001b[38;5;241m1\u001b[39m,\u001b[38;5;241m2\u001b[39m,\u001b[38;5;241m3\u001b[39m,\u001b[38;5;241m4\u001b[39m,\u001b[38;5;124m\"\u001b[39m\u001b[38;5;124msufh\u001b[39m\u001b[38;5;124m\"\u001b[39m,\u001b[38;5;241m7.6\u001b[39m,\u001b[38;5;241m5\u001b[39m\u001b[38;5;241m+\u001b[39m\u001b[38;5;241m8\u001b[39mj)\n\u001b[0;32m----> 2\u001b[0m \u001b[43mt\u001b[49m\u001b[43m[\u001b[49m\u001b[38;5;241;43m0\u001b[39;49m\u001b[43m]\u001b[49m\u001b[38;5;241m=\u001b[39m\u001b[38;5;124m\"\u001b[39m\u001b[38;5;124mkumar\u001b[39m\u001b[38;5;124m\"\u001b[39m\n\u001b[1;32m      3\u001b[0m t\n",
      "\u001b[0;31mTypeError\u001b[0m: 'tuple' object does not support item assignment"
     ]
    }
   ],
   "source": [
    "t=(1,2,3,4,\"sufh\",7.6,5+8j)\n",
    "t[0]=\"kumar\"\n",
    "t # tuple is not support item reassignment - immutable"
   ]
  },
  {
   "cell_type": "code",
   "execution_count": 18,
   "id": "c1acb074-2795-4a2a-a5db-e0338c60af23",
   "metadata": {},
   "outputs": [
    {
     "ename": "TypeError",
     "evalue": "'str' object does not support item assignment",
     "output_type": "error",
     "traceback": [
      "\u001b[0;31m---------------------------------------------------------------------------\u001b[0m",
      "\u001b[0;31mTypeError\u001b[0m                                 Traceback (most recent call last)",
      "Cell \u001b[0;32mIn[18], line 2\u001b[0m\n\u001b[1;32m      1\u001b[0m s\u001b[38;5;241m=\u001b[39m\u001b[38;5;124m\"\u001b[39m\u001b[38;5;124mahs\u001b[39m\u001b[38;5;124m\"\u001b[39m\n\u001b[0;32m----> 2\u001b[0m \u001b[43ms\u001b[49m\u001b[43m[\u001b[49m\u001b[38;5;241;43m0\u001b[39;49m\u001b[43m]\u001b[49m\u001b[38;5;241m=\u001b[39m\u001b[38;5;124m\"\u001b[39m\u001b[38;5;124mg\u001b[39m\u001b[38;5;124m\"\u001b[39m\n\u001b[1;32m      3\u001b[0m s \u001b[38;5;66;03m# string is also immutable\u001b[39;00m\n",
      "\u001b[0;31mTypeError\u001b[0m: 'str' object does not support item assignment"
     ]
    }
   ],
   "source": [
    "s=\"ahs\"\n",
    "s[0]=\"g\"\n",
    "s # string is also immutable"
   ]
  },
  {
   "cell_type": "code",
   "execution_count": 23,
   "id": "06dae3c4-9811-4cb7-b08f-972c07cd7ca8",
   "metadata": {},
   "outputs": [
    {
     "name": "stdout",
     "output_type": "stream",
     "text": [
      "3\n",
      "4\n",
      "5\n",
      "6\n"
     ]
    }
   ],
   "source": [
    "t =(3,4,5,6)\n",
    "for i in t:\n",
    "    print(i)"
   ]
  },
  {
   "cell_type": "code",
   "execution_count": 24,
   "id": "5ef73d39-3754-4b5e-bf1b-8f4ece782963",
   "metadata": {},
   "outputs": [
    {
     "name": "stdout",
     "output_type": "stream",
     "text": [
      "3\n",
      "4\n",
      "5\n",
      "6\n"
     ]
    }
   ],
   "source": [
    "for i in range(len(t)):\n",
    "    print(t[i])"
   ]
  },
  {
   "cell_type": "code",
   "execution_count": 22,
   "id": "d13c1ef6-1d66-4b0a-9025-0ff82f9f74de",
   "metadata": {},
   "outputs": [
    {
     "name": "stdout",
     "output_type": "stream",
     "text": [
      "1\n",
      "2\n",
      "3\n",
      "4\n"
     ]
    }
   ],
   "source": [
    "l=[1,2,3,4]\n",
    "for i in l: # list having many inbuild functions \n",
    "    print(i)"
   ]
  },
  {
   "cell_type": "code",
   "execution_count": 25,
   "id": "2f1fa60b-b3da-4e03-b699-437f571ccadf",
   "metadata": {},
   "outputs": [
    {
     "data": {
      "text/plain": [
       "3"
      ]
     },
     "execution_count": 25,
     "metadata": {},
     "output_type": "execute_result"
    }
   ],
   "source": [
    "t =(3,4,5,3,6,3,6)\n",
    "t.count(3)\n",
    "# touple having 2 inbuild functions - count, index"
   ]
  },
  {
   "cell_type": "code",
   "execution_count": 26,
   "id": "f5a6a6cf-ac94-47ed-a15f-bcd44be77449",
   "metadata": {},
   "outputs": [
    {
     "data": {
      "text/plain": [
       "0"
      ]
     },
     "execution_count": 26,
     "metadata": {},
     "output_type": "execute_result"
    }
   ],
   "source": [
    "t.index(3)\n",
    "#In Python, the index method on a tuple (or list) returns the first occurrence of the specified value. \n",
    "#when you call t.index(3),it searches for the first occurrence of the value 3 in the tuple t and returns its index."
   ]
  },
  {
   "cell_type": "code",
   "execution_count": 27,
   "id": "66fa4302-18be-402f-9aee-19d09055c8b1",
   "metadata": {},
   "outputs": [
    {
     "data": {
      "text/plain": [
       "1"
      ]
     },
     "execution_count": 27,
     "metadata": {},
     "output_type": "execute_result"
    }
   ],
   "source": [
    "t.index(4)"
   ]
  },
  {
   "cell_type": "code",
   "execution_count": 28,
   "id": "8461683f-54ca-465d-9176-4bc8d9b1a298",
   "metadata": {},
   "outputs": [
    {
     "data": {
      "text/plain": [
       "(2, 3, 4, 5, 6, 7, 8, 9)"
      ]
     },
     "execution_count": 28,
     "metadata": {},
     "output_type": "execute_result"
    }
   ],
   "source": [
    "t=(2,3,4,5)\n",
    "t1=(6,7,8,9)\n",
    "t+t1 # conacatenation"
   ]
  },
  {
   "cell_type": "code",
   "execution_count": 32,
   "id": "d94f196b-f665-40cb-af5c-1000cb976b12",
   "metadata": {},
   "outputs": [
    {
     "data": {
      "text/plain": [
       "(2, 'gopal', 3, 4, 5)"
      ]
     },
     "execution_count": 32,
     "metadata": {},
     "output_type": "execute_result"
    }
   ],
   "source": [
    "t=(2,3,4,5)\n",
    "l=list(t)\n",
    "l.insert(1,\"gopal\") \n",
    "# for inserting something in tuple, need to do typeconversion to list and then add that value\n",
    "tuple(l)"
   ]
  },
  {
   "cell_type": "code",
   "execution_count": 34,
   "id": "78949a94-deb6-43b3-9172-885ada765ee8",
   "metadata": {},
   "outputs": [
    {
     "data": {
      "text/plain": [
       "{1, 2, 3, 4, 45, 51, 52}"
      ]
     },
     "execution_count": 34,
     "metadata": {},
     "output_type": "execute_result"
    }
   ],
   "source": [
    "s=set([1,2,3,4,52,3,4,51,45,3,4,2,3,2,3,2,1,1,1,2,3,1]) # here every values are i m,ultiple times\n",
    "s # while prointing it will show only in 1 time\n",
    "#collection try to remove duplicat, or keep unique values"
   ]
  },
  {
   "cell_type": "code",
   "execution_count": 35,
   "id": "226c85a7-19ad-46c0-8d82-6961a7f1e953",
   "metadata": {},
   "outputs": [
    {
     "data": {
      "text/plain": [
       "{1, 2, 3, 4, 45, 51, 52, 'Sudh', 'sudh'}"
      ]
     },
     "execution_count": 35,
     "metadata": {},
     "output_type": "execute_result"
    }
   ],
   "source": [
    "s=set([1,2,3,4,52,3,4,51,45,3,4,2,3,2,3,2,1,1,1,2,3,1,'sudh','Sudh']) \n",
    "s # it will give unique element. no duplivcate. first sudh - small next one- Sudh caps"
   ]
  },
  {
   "cell_type": "code",
   "execution_count": 36,
   "id": "6e253970-4176-440e-b6e9-57d3deea616c",
   "metadata": {},
   "outputs": [
    {
     "ename": "TypeError",
     "evalue": "'set' object is not subscriptable",
     "output_type": "error",
     "traceback": [
      "\u001b[0;31m---------------------------------------------------------------------------\u001b[0m",
      "\u001b[0;31mTypeError\u001b[0m                                 Traceback (most recent call last)",
      "Cell \u001b[0;32mIn[36], line 1\u001b[0m\n\u001b[0;32m----> 1\u001b[0m \u001b[43ms\u001b[49m\u001b[43m[\u001b[49m\u001b[38;5;241;43m0\u001b[39;49m\u001b[43m]\u001b[49m\n",
      "\u001b[0;31mTypeError\u001b[0m: 'set' object is not subscriptable"
     ]
    }
   ],
   "source": [
    "s[0] # set always rep inside {} curly braces"
   ]
  },
  {
   "cell_type": "code",
   "execution_count": 37,
   "id": "b206dc3c-dcda-44d1-a7ea-9e7edd9cbf16",
   "metadata": {},
   "outputs": [
    {
     "name": "stdout",
     "output_type": "stream",
     "text": [
      "1\n",
      "2\n",
      "3\n",
      "4\n",
      "Sudh\n",
      "45\n",
      "sudh\n",
      "51\n",
      "52\n"
     ]
    }
   ],
   "source": [
    "for i in s:\n",
    "    print(i)"
   ]
  },
  {
   "cell_type": "code",
   "execution_count": 39,
   "id": "4fb28d59-ab9b-4acf-b4ca-00b261543851",
   "metadata": {},
   "outputs": [
    {
     "data": {
      "text/plain": [
       "{2, 3, 4, 5, 9}"
      ]
     },
     "execution_count": 39,
     "metadata": {},
     "output_type": "execute_result"
    }
   ],
   "source": [
    "d=set((3,4,2,5,2,9))# set\n",
    "d"
   ]
  },
  {
   "cell_type": "code",
   "execution_count": 41,
   "id": "9572fb6c-da07-41f5-9291-e60915900709",
   "metadata": {},
   "outputs": [
    {
     "data": {
      "text/plain": [
       "[9, 5, 4, 3, 2]"
      ]
     },
     "execution_count": 41,
     "metadata": {},
     "output_type": "execute_result"
    }
   ],
   "source": [
    "list(d)[::-1]"
   ]
  },
  {
   "cell_type": "code",
   "execution_count": 43,
   "id": "a1a2799f-8bce-41b0-8507-e0065182e10a",
   "metadata": {},
   "outputs": [
    {
     "data": {
      "text/plain": [
       "dict"
      ]
     },
     "execution_count": 43,
     "metadata": {},
     "output_type": "execute_result"
    }
   ],
   "source": [
    "b={4,5} # dictionary\n",
    "type(b)"
   ]
  },
  {
   "cell_type": "code",
   "execution_count": 45,
   "id": "c7b4288d-10d9-4b2c-9519-74682b39a10d",
   "metadata": {},
   "outputs": [
    {
     "data": {
      "text/plain": [
       "{4, 5, 'sudh'}"
      ]
     },
     "execution_count": 45,
     "metadata": {},
     "output_type": "execute_result"
    }
   ],
   "source": [
    "b={4,5}\n",
    "b.add(\"sudh\") # it will add element into last position\n",
    "b"
   ]
  },
  {
   "cell_type": "code",
   "execution_count": 46,
   "id": "5e813476-6579-4456-8249-b006111d9093",
   "metadata": {},
   "outputs": [
    {
     "data": {
      "text/plain": [
       "'sudh'"
      ]
     },
     "execution_count": 46,
     "metadata": {},
     "output_type": "execute_result"
    }
   ],
   "source": [
    "b.pop()# it will pop last element from the dictionary"
   ]
  },
  {
   "cell_type": "code",
   "execution_count": 53,
   "id": "135dfbe9-ecf1-4347-834d-4fd470433d83",
   "metadata": {},
   "outputs": [
    {
     "data": {
      "text/plain": [
       "{1, 2, 3, 4, 'sufh'}"
      ]
     },
     "execution_count": 53,
     "metadata": {},
     "output_type": "execute_result"
    }
   ],
   "source": [
    "k={1,2,3,3,4,1,2,\"sufh\"}\n",
    "k # it will give ordered collection of data"
   ]
  },
  {
   "cell_type": "code",
   "execution_count": 54,
   "id": "6b569445-a4b1-40ef-b95f-842bbe98d6cc",
   "metadata": {},
   "outputs": [
    {
     "data": {
      "text/plain": [
       "{1, 2, 3, 44, 5, 57, 'sufh'}"
      ]
     },
     "execution_count": 54,
     "metadata": {},
     "output_type": "execute_result"
    }
   ],
   "source": [
    "s={1,2,5,3,57,44,\"sufh\"}\n",
    "s #it is sorted based on the first place digit- 1,567,9"
   ]
  },
  {
   "cell_type": "code",
   "execution_count": 55,
   "id": "191f02e8-a8a8-48ee-a7b0-5263e343b892",
   "metadata": {},
   "outputs": [
    {
     "name": "stdout",
     "output_type": "stream",
     "text": [
      "1\n",
      "2\n",
      "3\n",
      "5\n",
      "44\n",
      "sufh\n",
      "57\n"
     ]
    }
   ],
   "source": [
    "for i in s:\n",
    "    print(i)"
   ]
  },
  {
   "cell_type": "code",
   "execution_count": 57,
   "id": "72a06cbf-e1c8-4efa-ae52-a956cf4408a6",
   "metadata": {},
   "outputs": [
    {
     "data": {
      "text/plain": [
       "{1, 2, 3, 4}"
      ]
     },
     "execution_count": 57,
     "metadata": {},
     "output_type": "execute_result"
    }
   ],
   "source": [
    "l=[1,2,3,4]\n",
    "s=set(l)\n",
    "s"
   ]
  },
  {
   "cell_type": "code",
   "execution_count": 58,
   "id": "bfa5a0c4-9ba4-40d8-81fe-81d3a75fb80e",
   "metadata": {},
   "outputs": [
    {
     "data": {
      "text/plain": [
       "[1, 2, 3, 4]"
      ]
     },
     "execution_count": 58,
     "metadata": {},
     "output_type": "execute_result"
    }
   ],
   "source": [
    "list(s)"
   ]
  },
  {
   "cell_type": "code",
   "execution_count": 59,
   "id": "79359fd5-6670-4022-93f8-a0d6ce8f0533",
   "metadata": {},
   "outputs": [
    {
     "data": {
      "text/plain": [
       "dict"
      ]
     },
     "execution_count": 59,
     "metadata": {},
     "output_type": "execute_result"
    }
   ],
   "source": [
    "d={}\n",
    "type(d)"
   ]
  },
  {
   "cell_type": "code",
   "execution_count": 62,
   "id": "e515c4c5-c7c6-40e7-a63e-b6d7e270445a",
   "metadata": {},
   "outputs": [
    {
     "data": {
      "text/plain": [
       "{'name': 'sudh', 'surname': 'kumar'}"
      ]
     },
     "execution_count": 62,
     "metadata": {},
     "output_type": "execute_result"
    }
   ],
   "source": [
    "d={\"name\":\"sudh\",\"surname\":\"kumar\"}\n",
    "d #dictionary is a keyvalue pairs"
   ]
  },
  {
   "cell_type": "code",
   "execution_count": 75,
   "id": "429b2eae-f433-43be-85be-c8d792a1b506",
   "metadata": {},
   "outputs": [
    {
     "data": {
      "text/plain": [
       "{'name': 'hgy', 'surname': 'kumar'}"
      ]
     },
     "execution_count": 75,
     "metadata": {},
     "output_type": "execute_result"
    }
   ],
   "source": [
    "d={\"name\":\"sudh\",\"surname\":\"kumar\",\"name\":\"hgy\"}\n",
    "d # it will override the name print new value"
   ]
  },
  {
   "cell_type": "code",
   "execution_count": 76,
   "id": "3177f056-be10-458f-8025-aa425997b52c",
   "metadata": {},
   "outputs": [
    {
     "data": {
      "text/plain": [
       "{'key': [1, 2, 3, 4, 5, [345, 65]],\n",
       " 'key1': (3, 3, 4, 5, 6),\n",
       " 'key2': {3, 4, 5, 6},\n",
       " 'key3': {'x': 'dyf', 'd': 'rew'}}"
      ]
     },
     "execution_count": 76,
     "metadata": {},
     "output_type": "execute_result"
    }
   ],
   "source": [
    "d ={\"key\":[1,2,3,4,5,[345,65]],\"key1\":(3,3,4,5,6),\"key2\":{3,4,5,6},\"key3\":{'x':\"dyf\",'d':\"rew\"}}\n",
    "d"
   ]
  },
  {
   "cell_type": "code",
   "execution_count": 77,
   "id": "121deb3f-ceee-410a-a580-69d2b51c163c",
   "metadata": {},
   "outputs": [
    {
     "data": {
      "text/plain": [
       "[1, 2, 3, 4, 5, [345, 65]]"
      ]
     },
     "execution_count": 77,
     "metadata": {},
     "output_type": "execute_result"
    }
   ],
   "source": [
    "d['key'] # using key we are accessing"
   ]
  },
  {
   "cell_type": "code",
   "execution_count": 78,
   "id": "97f6753a-21cb-474b-abfa-f3fb2f81bf0c",
   "metadata": {},
   "outputs": [
    {
     "data": {
      "text/plain": [
       "345"
      ]
     },
     "execution_count": 78,
     "metadata": {},
     "output_type": "execute_result"
    }
   ],
   "source": [
    "d['key'][5][0]"
   ]
  },
  {
   "cell_type": "code",
   "execution_count": 80,
   "id": "12eac5a8-bb68-462e-aef4-3798389aff80",
   "metadata": {},
   "outputs": [
    {
     "data": {
      "text/plain": [
       "'dyf'"
      ]
     },
     "execution_count": 80,
     "metadata": {},
     "output_type": "execute_result"
    }
   ],
   "source": [
    "d['key3']['x']"
   ]
  },
  {
   "cell_type": "code",
   "execution_count": 81,
   "id": "a6609910-004c-41cb-ac08-46d6ab070e43",
   "metadata": {},
   "outputs": [
    {
     "name": "stdout",
     "output_type": "stream",
     "text": [
      "[1, 2, 3, 4, 5, [345, 65]]\n",
      "(3, 3, 4, 5, 6)\n",
      "{3, 4, 5, 6}\n",
      "{'x': 'dyf', 'd': 'rew'}\n"
     ]
    }
   ],
   "source": [
    "for i in d:\n",
    "    print(d[i])"
   ]
  },
  {
   "cell_type": "code",
   "execution_count": 82,
   "id": "2d487f8c-c72a-453f-9a77-5bf1336df567",
   "metadata": {},
   "outputs": [
    {
     "name": "stdout",
     "output_type": "stream",
     "text": [
      "[1, 2, 3, 4, 5, [345, 65]]\n",
      "(3, 3, 4, 5, 6)\n",
      "{3, 4, 5, 6}\n",
      "{'x': 'dyf', 'd': 'rew'}\n"
     ]
    }
   ],
   "source": [
    "for i in d.keys():\n",
    "    print(d[i])"
   ]
  },
  {
   "cell_type": "code",
   "execution_count": 83,
   "id": "ec4466b5-8c96-407e-82cc-793b30b7ccaf",
   "metadata": {},
   "outputs": [
    {
     "data": {
      "text/plain": [
       "dict_values([[1, 2, 3, 4, 5, [345, 65]], (3, 3, 4, 5, 6), {3, 4, 5, 6}, {'x': 'dyf', 'd': 'rew'}])"
      ]
     },
     "execution_count": 83,
     "metadata": {},
     "output_type": "execute_result"
    }
   ],
   "source": [
    "d.values()"
   ]
  },
  {
   "cell_type": "code",
   "execution_count": 85,
   "id": "7f0c5337-5535-4337-b585-e862a3f01e63",
   "metadata": {},
   "outputs": [
    {
     "data": {
      "text/plain": [
       "[3, 3, 4, 5, 6]"
      ]
     },
     "execution_count": 85,
     "metadata": {},
     "output_type": "execute_result"
    }
   ],
   "source": [
    "m=[]\n",
    "for i in d.values():\n",
    "    if type(i)==tuple:\n",
    "        for j in i:\n",
    "            m.append(j)\n",
    "m"
   ]
  },
  {
   "cell_type": "code",
   "execution_count": 86,
   "id": "9511a4fb-1406-432d-8a06-755fa8f46d66",
   "metadata": {},
   "outputs": [
    {
     "data": {
      "text/plain": [
       "{'key': [1, 2, 3, 4, 5, [345, 65]],\n",
       " 'key1': (3, 3, 4, 5, 6),\n",
       " 'key2': {3, 4, 5, 6},\n",
       " 'key3': {'x': 'dyf', 'd': 'rew'}}"
      ]
     },
     "execution_count": 86,
     "metadata": {},
     "output_type": "execute_result"
    }
   ],
   "source": [
    "d"
   ]
  },
  {
   "cell_type": "code",
   "execution_count": 89,
   "id": "55116543-99e9-4d38-a32b-657c81aedbdc",
   "metadata": {},
   "outputs": [
    {
     "data": {
      "text/plain": [
       "{'key': [1, 2, 3, 4, 5, [345, 65]],\n",
       " 'key1': (3, 3, 4, 5, 6),\n",
       " 'key2': {3, 4, 5, 6},\n",
       " 'key3': {'x': 'dyf', 'd': 'rew'},\n",
       " 'key5': 'this is a new data'}"
      ]
     },
     "execution_count": 89,
     "metadata": {},
     "output_type": "execute_result"
    }
   ],
   "source": [
    "d[\"key5\"]=\"this is a new data\"\n",
    "d"
   ]
  },
  {
   "cell_type": "code",
   "execution_count": 90,
   "id": "d3b33a9e-67f3-435a-9856-e3f64d2c631b",
   "metadata": {},
   "outputs": [
    {
     "data": {
      "text/plain": [
       "{'key': [1, 2, 3, 4, 5, [345, 65]],\n",
       " 'key1': (3, 3, 4, 5, 6),\n",
       " 'key2': 'sgwhjwk',\n",
       " 'key3': {'x': 'dyf', 'd': 'rew'},\n",
       " 'key5': 'this is a new data'}"
      ]
     },
     "execution_count": 90,
     "metadata": {},
     "output_type": "execute_result"
    }
   ],
   "source": [
    "d[\"key2\"]=\"sgwhjwk\" # key will not gona make duplicate, value just override\n",
    "d"
   ]
  },
  {
   "cell_type": "code",
   "execution_count": 91,
   "id": "a2531082-be8c-4eb5-83d0-5010a823f66b",
   "metadata": {},
   "outputs": [],
   "source": [
    "# list comprehension- we can perform multi task into single\n"
   ]
  },
  {
   "cell_type": "code",
   "execution_count": 93,
   "id": "5929bcd3-b9d6-4fa6-932a-024b37e3421e",
   "metadata": {},
   "outputs": [
    {
     "data": {
      "text/plain": [
       "{0: 0, 1: 1, 2: 4, 3: 9, 4: 16, 5: 25, 6: 36, 7: 49, 8: 64, 9: 81}"
      ]
     },
     "execution_count": 93,
     "metadata": {},
     "output_type": "execute_result"
    }
   ],
   "source": [
    "d={}\n",
    "for i in range(10):\n",
    "    d[i]=i**2\n",
    "d # key is intergers, value is squares"
   ]
  },
  {
   "cell_type": "code",
   "execution_count": 95,
   "id": "afdce5c8-2916-4c4e-9412-873536289c68",
   "metadata": {},
   "outputs": [
    {
     "data": {
      "text/plain": [
       "{'sudh': 'SUDH', 'kumar': 'KUMAR', 'xgy': 'XGY', 'sdg': 'SDG'}"
      ]
     },
     "execution_count": 95,
     "metadata": {},
     "output_type": "execute_result"
    }
   ],
   "source": [
    "l=['sudh','kumar','xgy','sdg']\n",
    "d={}\n",
    "for i in l:\n",
    "    d[i]=i.upper()\n",
    "d"
   ]
  },
  {
   "cell_type": "code",
   "execution_count": 98,
   "id": "4ff009e1-2fe7-4992-8ba2-5faffb607ca3",
   "metadata": {},
   "outputs": [
    {
     "data": {
      "text/plain": [
       "{'sudh': False, 'kumar': False, 'xgy': False, 'sdg': False}"
      ]
     },
     "execution_count": 98,
     "metadata": {},
     "output_type": "execute_result"
    }
   ],
   "source": [
    "l=['sudh','kumar','xgy','sdg']\n",
    "d={}\n",
    "for i in l:\n",
    "    d[i]=i.isupper() # using isupper checking whether it is in uppercase\n",
    "d"
   ]
  },
  {
   "cell_type": "code",
   "execution_count": 99,
   "id": "5df389c8-674f-4409-a0a6-f83f7318328a",
   "metadata": {},
   "outputs": [
    {
     "data": {
      "text/plain": [
       "{0: 0, 1: 1, 2: 4, 3: 9, 4: 16, 5: 25, 6: 36, 7: 49, 8: 64, 9: 81}"
      ]
     },
     "execution_count": 99,
     "metadata": {},
     "output_type": "execute_result"
    }
   ],
   "source": [
    "#another method\n",
    "{i:i**2 for i in range(10)}"
   ]
  },
  {
   "cell_type": "code",
   "execution_count": 100,
   "id": "11ea6638-5fed-4e8d-b2c6-3ff153a0f1a9",
   "metadata": {},
   "outputs": [
    {
     "data": {
      "text/plain": [
       "dict_items([('sudh', False), ('kumar', False), ('xgy', False), ('sdg', False)])"
      ]
     },
     "execution_count": 100,
     "metadata": {},
     "output_type": "execute_result"
    }
   ],
   "source": [
    "d.items()"
   ]
  },
  {
   "cell_type": "code",
   "execution_count": 103,
   "id": "cfddb297-bcc6-4963-beaa-82bebc750ab1",
   "metadata": {},
   "outputs": [],
   "source": [
    "#python- functional programming language\n",
    "def test(): # defining fun\n",
    "    pass# don't want create body, we can use pass\n",
    "test()# calling function    "
   ]
  },
  {
   "cell_type": "code",
   "execution_count": 105,
   "id": "500b943c-16c7-4b66-bf4b-cad55dd741d5",
   "metadata": {},
   "outputs": [
    {
     "data": {
      "text/plain": [
       "NoneType"
      ]
     },
     "execution_count": 105,
     "metadata": {},
     "output_type": "execute_result"
    }
   ],
   "source": [
    "type(test())"
   ]
  },
  {
   "cell_type": "code",
   "execution_count": 104,
   "id": "656a3958-1e76-46cf-9549-faf0bd003641",
   "metadata": {},
   "outputs": [
    {
     "data": {
      "text/plain": [
       "range(0, 4)"
      ]
     },
     "execution_count": 104,
     "metadata": {},
     "output_type": "execute_result"
    }
   ],
   "source": [
    "range(4)"
   ]
  },
  {
   "cell_type": "code",
   "execution_count": 106,
   "id": "973253c9-3942-472d-944e-81a1ecac4f6c",
   "metadata": {},
   "outputs": [],
   "source": [
    "for i in range(8):\n",
    "    pass"
   ]
  },
  {
   "cell_type": "code",
   "execution_count": 112,
   "id": "8c8eff6b-13df-431d-a3f3-f5e076ad4022",
   "metadata": {},
   "outputs": [
    {
     "name": "stdout",
     "output_type": "stream",
     "text": [
      "this is my first function 7\n"
     ]
    }
   ],
   "source": [
    "def test():\n",
    "    a=1\n",
    "    b=6\n",
    "    print(\"this is my first function\", a+b)\n",
    "test()"
   ]
  },
  {
   "cell_type": "code",
   "execution_count": 113,
   "id": "f7822606-4189-47bb-8dd6-3bafc42c6e2a",
   "metadata": {},
   "outputs": [
    {
     "name": "stdout",
     "output_type": "stream",
     "text": [
      "7\n"
     ]
    }
   ],
   "source": [
    "def test():\n",
    "    a=1\n",
    "    b=6\n",
    "    print(int(a+b))\n",
    "test()"
   ]
  },
  {
   "cell_type": "code",
   "execution_count": 114,
   "id": "6c54c9b7-ba63-4497-9fe8-40e442613cb5",
   "metadata": {},
   "outputs": [
    {
     "name": "stdout",
     "output_type": "stream",
     "text": [
      "xyx\n"
     ]
    },
    {
     "data": {
      "text/plain": [
       "NoneType"
      ]
     },
     "execution_count": 114,
     "metadata": {},
     "output_type": "execute_result"
    }
   ],
   "source": [
    "type(print(\"xyx\"))"
   ]
  },
  {
   "cell_type": "code",
   "execution_count": 115,
   "id": "4f3961b4-f8d8-4dbb-9d7a-66b8bac4c742",
   "metadata": {},
   "outputs": [
    {
     "name": "stdout",
     "output_type": "stream",
     "text": [
      "7\n"
     ]
    },
    {
     "data": {
      "text/plain": [
       "NoneType"
      ]
     },
     "execution_count": 115,
     "metadata": {},
     "output_type": "execute_result"
    }
   ],
   "source": [
    "type(test())"
   ]
  },
  {
   "cell_type": "code",
   "execution_count": 126,
   "id": "98536e90-eada-41d0-b33b-5c209161a667",
   "metadata": {},
   "outputs": [
    {
     "data": {
      "text/plain": [
       "7"
      ]
     },
     "execution_count": 126,
     "metadata": {},
     "output_type": "execute_result"
    }
   ],
   "source": [
    "def test():\n",
    "    a=1\n",
    "    b=6\n",
    "    return a+b\n",
    "test()"
   ]
  },
  {
   "cell_type": "code",
   "execution_count": 127,
   "id": "5134ab8e-c460-4e25-aa17-e7efc6e41725",
   "metadata": {},
   "outputs": [
    {
     "data": {
      "text/plain": [
       "int"
      ]
     },
     "execution_count": 127,
     "metadata": {},
     "output_type": "execute_result"
    }
   ],
   "source": [
    "type(test())"
   ]
  },
  {
   "cell_type": "code",
   "execution_count": 128,
   "id": "018acc61-a3ad-41cb-beb7-2881b0f841d5",
   "metadata": {},
   "outputs": [
    {
     "data": {
      "text/plain": [
       "7"
      ]
     },
     "execution_count": 128,
     "metadata": {},
     "output_type": "execute_result"
    }
   ],
   "source": [
    "n=test()\n",
    "n"
   ]
  },
  {
   "cell_type": "code",
   "execution_count": 129,
   "id": "3c76c52a-513f-4122-a62c-551889d0a376",
   "metadata": {},
   "outputs": [
    {
     "data": {
      "text/plain": [
       "97"
      ]
     },
     "execution_count": 129,
     "metadata": {},
     "output_type": "execute_result"
    }
   ],
   "source": [
    "n+90"
   ]
  },
  {
   "cell_type": "code",
   "execution_count": 131,
   "id": "60a41e47-7cee-440c-a442-296f706c3027",
   "metadata": {},
   "outputs": [
    {
     "data": {
      "text/plain": [
       "'my name is gopalbring'"
      ]
     },
     "execution_count": 131,
     "metadata": {},
     "output_type": "execute_result"
    }
   ],
   "source": [
    "def test():\n",
    "    a=1\n",
    "    b=6\n",
    "    return \"my name is gopal\"\n",
    "n=test()\n",
    "n+\"bring\""
   ]
  },
  {
   "cell_type": "code",
   "execution_count": 134,
   "id": "20adab41-db7d-47f9-8a16-959f06d125f9",
   "metadata": {},
   "outputs": [
    {
     "data": {
      "text/plain": [
       "635"
      ]
     },
     "execution_count": 134,
     "metadata": {},
     "output_type": "execute_result"
    }
   ],
   "source": [
    "def test(a,b):\n",
    "    return a+b\n",
    "test(290,345)\n"
   ]
  },
  {
   "cell_type": "code",
   "execution_count": 135,
   "id": "eb3fe84e-4556-4018-91ee-cbcd6c18acd5",
   "metadata": {},
   "outputs": [
    {
     "data": {
      "text/plain": [
       "'sufhkumar'"
      ]
     },
     "execution_count": 135,
     "metadata": {},
     "output_type": "execute_result"
    }
   ],
   "source": [
    "test(\"sufh\",\"kumar\") # not defined the datatype as int. so we can add the string also"
   ]
  },
  {
   "cell_type": "code",
   "execution_count": 138,
   "id": "62a28744-b7ab-4c72-a594-3b8eec74ea4d",
   "metadata": {},
   "outputs": [
    {
     "data": {
      "text/plain": [
       "str"
      ]
     },
     "execution_count": 138,
     "metadata": {},
     "output_type": "execute_result"
    }
   ],
   "source": [
    "\n",
    "type(test(\"sufh\",\"kumar\"))"
   ]
  },
  {
   "cell_type": "code",
   "execution_count": 139,
   "id": "f18f31a7-1ce7-417c-bda3-0e0929fa7347",
   "metadata": {},
   "outputs": [
    {
     "data": {
      "text/plain": [
       "'SUFHKUMAR'"
      ]
     },
     "execution_count": 139,
     "metadata": {},
     "output_type": "execute_result"
    }
   ],
   "source": [
    "y=test(\"sufh\",\"kumar\")\n",
    "y.upper()"
   ]
  },
  {
   "cell_type": "code",
   "execution_count": 140,
   "id": "d6b9e540-274e-4170-ae00-843165c8f7c6",
   "metadata": {},
   "outputs": [
    {
     "data": {
      "text/plain": [
       "'sufhkumar'"
      ]
     },
     "execution_count": 140,
     "metadata": {},
     "output_type": "execute_result"
    }
   ],
   "source": [
    "y=test(\"sufh\",\"kumar\")\n",
    "y.lower()"
   ]
  },
  {
   "cell_type": "code",
   "execution_count": 142,
   "id": "6c744208-3922-41bf-8d86-9477a5468151",
   "metadata": {},
   "outputs": [
    {
     "data": {
      "text/plain": [
       "[3, 4, 5, 6, 3, 4, 7, 8]"
      ]
     },
     "execution_count": 142,
     "metadata": {},
     "output_type": "execute_result"
    }
   ],
   "source": [
    "test([3,4,5,6],[3,4,7,8])"
   ]
  },
  {
   "cell_type": "code",
   "execution_count": 143,
   "id": "55521653-174a-4611-be4a-c01864ca93eb",
   "metadata": {},
   "outputs": [
    {
     "data": {
      "text/plain": [
       "(9, 20)"
      ]
     },
     "execution_count": 143,
     "metadata": {},
     "output_type": "execute_result"
    }
   ],
   "source": [
    "def test(a,b):\n",
    "    return a+b,a*b\n",
    "test(4,5)"
   ]
  },
  {
   "cell_type": "code",
   "execution_count": 144,
   "id": "554847f2-963d-4f1b-b0a9-0630773bf023",
   "metadata": {},
   "outputs": [],
   "source": [
    "def test(a,b):\n",
    "    return a+b,a*b\n",
    "x,y=test(4,5)\n"
   ]
  },
  {
   "cell_type": "code",
   "execution_count": 145,
   "id": "ae3b506b-7ae5-4ce5-a429-d3072719c6af",
   "metadata": {},
   "outputs": [
    {
     "data": {
      "text/plain": [
       "9"
      ]
     },
     "execution_count": 145,
     "metadata": {},
     "output_type": "execute_result"
    }
   ],
   "source": [
    "x"
   ]
  },
  {
   "cell_type": "code",
   "execution_count": 146,
   "id": "5b638e8e-5dd7-4182-9be0-c591a603f1c9",
   "metadata": {},
   "outputs": [
    {
     "data": {
      "text/plain": [
       "20"
      ]
     },
     "execution_count": 146,
     "metadata": {},
     "output_type": "execute_result"
    }
   ],
   "source": [
    "y"
   ]
  },
  {
   "cell_type": "code",
   "execution_count": 147,
   "id": "388d514e-0748-4ff5-b1b8-0a9cd6032ad8",
   "metadata": {},
   "outputs": [],
   "source": [
    "a=1\n",
    "b=2\n",
    "c=3\n",
    "d=\"sufh\""
   ]
  },
  {
   "cell_type": "code",
   "execution_count": 148,
   "id": "e691c5a0-5492-497e-b254-4312f5170dba",
   "metadata": {},
   "outputs": [
    {
     "data": {
      "text/plain": [
       "'wsdw'"
      ]
     },
     "execution_count": 148,
     "metadata": {},
     "output_type": "execute_result"
    }
   ],
   "source": [
    "a,b,c,d=5,6,7,\"wsdw\"\n",
    "d"
   ]
  },
  {
   "cell_type": "code",
   "execution_count": 153,
   "id": "764168f0-3da4-4d64-bd15-72f654523590",
   "metadata": {},
   "outputs": [
    {
     "data": {
      "text/plain": [
       "7"
      ]
     },
     "execution_count": 153,
     "metadata": {},
     "output_type": "execute_result"
    }
   ],
   "source": [
    "c"
   ]
  },
  {
   "cell_type": "code",
   "execution_count": 150,
   "id": "188a5962-d652-49ff-becd-9a9431241309",
   "metadata": {},
   "outputs": [
    {
     "data": {
      "text/plain": [
       "20"
      ]
     },
     "execution_count": 150,
     "metadata": {},
     "output_type": "execute_result"
    }
   ],
   "source": [
    "y,_=test(4,5)\n",
    "_"
   ]
  },
  {
   "cell_type": "code",
   "execution_count": 151,
   "id": "74012a86-5292-487d-84d6-22230bad4237",
   "metadata": {},
   "outputs": [
    {
     "name": "stdout",
     "output_type": "stream",
     "text": [
      "\n"
     ]
    }
   ],
   "source": [
    "print()"
   ]
  },
  {
   "cell_type": "code",
   "execution_count": 152,
   "id": "3886f743-b1f1-4fdd-b7e6-3db3d05b54ef",
   "metadata": {},
   "outputs": [],
   "source": [
    "def test(a,b=\"sudh\"):\n",
    "    return a+b"
   ]
  },
  {
   "cell_type": "code",
   "execution_count": 154,
   "id": "70ef0072-c94b-4581-9b45-f248e011cd96",
   "metadata": {},
   "outputs": [
    {
     "data": {
      "text/plain": [
       "'susjsudh'"
      ]
     },
     "execution_count": 154,
     "metadata": {},
     "output_type": "execute_result"
    }
   ],
   "source": [
    "test(\"susj\")"
   ]
  },
  {
   "cell_type": "code",
   "execution_count": 155,
   "id": "f8173bcf-83f8-4fc1-b762-1f2eb348fc1d",
   "metadata": {},
   "outputs": [
    {
     "data": {
      "text/plain": [
       "'susjFTUUJJ'"
      ]
     },
     "execution_count": 155,
     "metadata": {},
     "output_type": "execute_result"
    }
   ],
   "source": [
    "test(\"susj\",\"FTUUJJ\")"
   ]
  },
  {
   "cell_type": "code",
   "execution_count": 159,
   "id": "78aa471f-f93f-441d-9620-d5a0deef3ae6",
   "metadata": {},
   "outputs": [
    {
     "ename": "NameError",
     "evalue": "name 'f' is not defined",
     "output_type": "error",
     "traceback": [
      "\u001b[0;31m---------------------------------------------------------------------------\u001b[0m",
      "\u001b[0;31mNameError\u001b[0m                                 Traceback (most recent call last)",
      "Cell \u001b[0;32mIn[159], line 5\u001b[0m\n\u001b[1;32m      3\u001b[0m     f\u001b[38;5;241m=\u001b[39m\u001b[38;5;241m6\u001b[39m\n\u001b[1;32m      4\u001b[0m     \u001b[38;5;28;01mreturn\u001b[39;00m a\u001b[38;5;241m+\u001b[39mf\n\u001b[0;32m----> 5\u001b[0m \u001b[43mf\u001b[49m\n",
      "\u001b[0;31mNameError\u001b[0m: name 'f' is not defined"
     ]
    }
   ],
   "source": [
    "a=1\n",
    "def test():\n",
    "    f=6\n",
    "    return a+f\n",
    "f"
   ]
  },
  {
   "cell_type": "code",
   "execution_count": 160,
   "id": "bbdcf37e-9629-4385-ab91-6c35a38f5382",
   "metadata": {},
   "outputs": [
    {
     "data": {
      "text/plain": [
       "7"
      ]
     },
     "execution_count": 160,
     "metadata": {},
     "output_type": "execute_result"
    }
   ],
   "source": [
    "a=1\n",
    "def test():\n",
    "    f=6\n",
    "    return a+f\n",
    "test()"
   ]
  },
  {
   "cell_type": "code",
   "execution_count": 161,
   "id": "bce03560-55ab-42c8-ae79-f29dc8db58a9",
   "metadata": {},
   "outputs": [
    {
     "data": {
      "text/plain": [
       "('sufh', [2, 3, 4, 5], {'key': 45})"
      ]
     },
     "execution_count": 161,
     "metadata": {},
     "output_type": "execute_result"
    }
   ],
   "source": [
    "def test():\n",
    "    return \"sufh\",[2,3,4,5],{'key':45}\n",
    "test() # output- tuple\n",
    "#When multiple values are returned from a function in Python,\n",
    "#they are automatically packed into a tuple."
   ]
  },
  {
   "cell_type": "code",
   "execution_count": 162,
   "id": "21ec1ed3-5643-484f-abf9-a03ffd04aab7",
   "metadata": {},
   "outputs": [
    {
     "data": {
      "text/plain": [
       "{'key': 45}"
      ]
     },
     "execution_count": 162,
     "metadata": {},
     "output_type": "execute_result"
    }
   ],
   "source": [
    "_,_,u=test()\n",
    "u"
   ]
  },
  {
   "cell_type": "code",
   "execution_count": null,
   "id": "27c9d67d-9f46-4d55-bc7f-c63730450762",
   "metadata": {},
   "outputs": [],
   "source": []
  }
 ],
 "metadata": {
  "kernelspec": {
   "display_name": "Python 3 (ipykernel)",
   "language": "python",
   "name": "python3"
  },
  "language_info": {
   "codemirror_mode": {
    "name": "ipython",
    "version": 3
   },
   "file_extension": ".py",
   "mimetype": "text/x-python",
   "name": "python",
   "nbconvert_exporter": "python",
   "pygments_lexer": "ipython3",
   "version": "3.8.10"
  }
 },
 "nbformat": 4,
 "nbformat_minor": 5
}
