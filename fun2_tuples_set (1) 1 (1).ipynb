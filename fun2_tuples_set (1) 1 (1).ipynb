{
 "cells": [
  {
   "cell_type": "code",
   "execution_count": 4,
   "id": "23cc4504-b19c-4d77-b180-8d9f8b42e6eb",
   "metadata": {},
   "outputs": [
    {
     "name": "stdout",
     "output_type": "stream",
     "text": [
      "it is not a prime no\n"
     ]
    }
   ],
   "source": [
    "def is_prime(num):\n",
    "    for i in range(2,num):\n",
    "        if num % i==0:\n",
    "            print(\"it is not a prime no\")\n",
    "            break\n",
    "        else:\n",
    "            print(\"it is a prime no\")\n",
    "            break\n",
    "is_prime(8)"
   ]
  },
  {
   "cell_type": "code",
   "execution_count": 5,
   "id": "2300f383-990f-4ad7-b1b4-d452b5fde0d3",
   "metadata": {},
   "outputs": [
    {
     "name": "stdout",
     "output_type": "stream",
     "text": [
      "it is a prime no\n"
     ]
    }
   ],
   "source": [
    "is_prime(11)"
   ]
  },
  {
   "cell_type": "code",
   "execution_count": 6,
   "id": "2be62212-2388-484d-9d25-0fe4afa455fd",
   "metadata": {},
   "outputs": [
    {
     "data": {
      "text/plain": [
       "False"
      ]
     },
     "execution_count": 6,
     "metadata": {},
     "output_type": "execute_result"
    }
   ],
   "source": [
    "def is_prime(num):\n",
    "    for i in range(2,num):\n",
    "        if num % i==0:\n",
    "            return False\n",
    "            break\n",
    "        else:\n",
    "            return True\n",
    "            break\n",
    "is_prime(90)"
   ]
  },
  {
   "cell_type": "code",
   "execution_count": 7,
   "id": "454eba6c-baea-49c7-a3e3-427c37c9f7b2",
   "metadata": {},
   "outputs": [
    {
     "ename": "TypeError",
     "evalue": "'int' object is not iterable",
     "output_type": "error",
     "traceback": [
      "\u001b[0;31m---------------------------------------------------------------------------\u001b[0m",
      "\u001b[0;31mTypeError\u001b[0m                                 Traceback (most recent call last)",
      "Cell \u001b[0;32mIn[7], line 1\u001b[0m\n\u001b[0;32m----> 1\u001b[0m \u001b[38;5;28;01mfor\u001b[39;00m i \u001b[38;5;129;01min\u001b[39;00m \u001b[38;5;241m7\u001b[39m:\n\u001b[1;32m      2\u001b[0m     \u001b[38;5;28;01mpass\u001b[39;00m\n",
      "\u001b[0;31mTypeError\u001b[0m: 'int' object is not iterable"
     ]
    }
   ],
   "source": [
    "for i in 7:\n",
    "    pass # int is not an iterable object"
   ]
  },
  {
   "cell_type": "code",
   "execution_count": 8,
   "id": "9e663601-146a-4c3c-ac5f-e413a1dd9f02",
   "metadata": {},
   "outputs": [
    {
     "name": "stdout",
     "output_type": "stream",
     "text": [
      "3\n",
      "4\n",
      "5\n",
      "sufh\n"
     ]
    }
   ],
   "source": [
    "for i in [3,4,5,\"sufh\"]:\n",
    "    print(i)"
   ]
  },
  {
   "cell_type": "code",
   "execution_count": 10,
   "id": "e0fc83be-ef3c-4ab8-977b-121f142ce305",
   "metadata": {},
   "outputs": [
    {
     "ename": "TypeError",
     "evalue": "'str' object is not an iterator",
     "output_type": "error",
     "traceback": [
      "\u001b[0;31m---------------------------------------------------------------------------\u001b[0m",
      "\u001b[0;31mTypeError\u001b[0m                                 Traceback (most recent call last)",
      "Cell \u001b[0;32mIn[10], line 1\u001b[0m\n\u001b[0;32m----> 1\u001b[0m \u001b[38;5;28;43mnext\u001b[39;49m\u001b[43m(\u001b[49m\u001b[38;5;124;43m\"\u001b[39;49m\u001b[38;5;124;43msudh\u001b[39;49m\u001b[38;5;124;43m\"\u001b[39;49m\u001b[43m)\u001b[49m \u001b[38;5;66;03m# give next data set one by one\u001b[39;00m\n\u001b[1;32m      2\u001b[0m \u001b[38;5;66;03m#str object is not an iterator\u001b[39;00m\n",
      "\u001b[0;31mTypeError\u001b[0m: 'str' object is not an iterator"
     ]
    }
   ],
   "source": [
    "next(\"sudh\") # give next data set one by one\n",
    "#str object is not an iterator"
   ]
  },
  {
   "cell_type": "code",
   "execution_count": 11,
   "id": "89689338-00d6-42dc-974a-4adce345f774",
   "metadata": {},
   "outputs": [
    {
     "data": {
      "text/plain": [
       "str_iterator"
      ]
     },
     "execution_count": 11,
     "metadata": {},
     "output_type": "execute_result"
    }
   ],
   "source": [
    "a=iter(\"sudh\")\n",
    "type(a)"
   ]
  },
  {
   "cell_type": "code",
   "execution_count": 12,
   "id": "ba79cb22-0a16-4b10-a1a4-6a765fb1a60c",
   "metadata": {},
   "outputs": [],
   "source": [
    "# iterator - eg: next() which helps for iterating the objects."
   ]
  },
  {
   "cell_type": "code",
   "execution_count": 13,
   "id": "ef3e81d1-5cd1-4cc6-aac6-fbe6440fc27e",
   "metadata": {},
   "outputs": [],
   "source": [
    "#iterable: itself behsve like an object abd iterating. eg: list"
   ]
  },
  {
   "cell_type": "code",
   "execution_count": 14,
   "id": "d5241da5-6dd6-4396-a155-835dabf1235a",
   "metadata": {},
   "outputs": [
    {
     "ename": "TypeError",
     "evalue": "'int' object is not an iterator",
     "output_type": "error",
     "traceback": [
      "\u001b[0;31m---------------------------------------------------------------------------\u001b[0m",
      "\u001b[0;31mTypeError\u001b[0m                                 Traceback (most recent call last)",
      "Cell \u001b[0;32mIn[14], line 1\u001b[0m\n\u001b[0;32m----> 1\u001b[0m \u001b[38;5;28;43mnext\u001b[39;49m\u001b[43m(\u001b[49m\u001b[38;5;241;43m12\u001b[39;49m\u001b[43m)\u001b[49m\n",
      "\u001b[0;31mTypeError\u001b[0m: 'int' object is not an iterator"
     ]
    }
   ],
   "source": [
    "next(12)"
   ]
  },
  {
   "cell_type": "code",
   "execution_count": 15,
   "id": "3a971ea5-626f-493f-9744-ba19badd6b6e",
   "metadata": {},
   "outputs": [],
   "source": [
    "# if someting is iterable then only we can convert ibto iterator"
   ]
  },
  {
   "cell_type": "code",
   "execution_count": 16,
   "id": "c3967770-208e-4f04-b4fa-7744c04dff8f",
   "metadata": {},
   "outputs": [
    {
     "ename": "TypeError",
     "evalue": "'int' object is not iterable",
     "output_type": "error",
     "traceback": [
      "\u001b[0;31m---------------------------------------------------------------------------\u001b[0m",
      "\u001b[0;31mTypeError\u001b[0m                                 Traceback (most recent call last)",
      "Cell \u001b[0;32mIn[16], line 1\u001b[0m\n\u001b[0;32m----> 1\u001b[0m \u001b[38;5;28;43miter\u001b[39;49m\u001b[43m(\u001b[49m\u001b[38;5;241;43m12\u001b[39;49m\u001b[43m)\u001b[49m\n",
      "\u001b[0;31mTypeError\u001b[0m: 'int' object is not iterable"
     ]
    }
   ],
   "source": [
    "iter(12)"
   ]
  },
  {
   "cell_type": "code",
   "execution_count": 17,
   "id": "49de25cf-67bb-4b26-9e0b-47be571b23a1",
   "metadata": {},
   "outputs": [
    {
     "data": {
      "text/plain": [
       "<list_iterator at 0x7f85553a3040>"
      ]
     },
     "execution_count": 17,
     "metadata": {},
     "output_type": "execute_result"
    }
   ],
   "source": [
    "l=[1,2,3,4]\n",
    "iter(l)"
   ]
  },
  {
   "cell_type": "code",
   "execution_count": 18,
   "id": "a4490d78-db8f-4a9b-91f7-801d0d984380",
   "metadata": {},
   "outputs": [
    {
     "data": {
      "text/plain": [
       "range(0, 10)"
      ]
     },
     "execution_count": 18,
     "metadata": {},
     "output_type": "execute_result"
    }
   ],
   "source": [
    "#generator- generating data\n",
    "range(10) # strating from 0 till 10. generating that datset"
   ]
  },
  {
   "cell_type": "code",
   "execution_count": 19,
   "id": "046e5052-d498-44cb-a948-3d3691eef9a4",
   "metadata": {},
   "outputs": [
    {
     "ename": "TypeError",
     "evalue": "'range' object is not an iterator",
     "output_type": "error",
     "traceback": [
      "\u001b[0;31m---------------------------------------------------------------------------\u001b[0m",
      "\u001b[0;31mTypeError\u001b[0m                                 Traceback (most recent call last)",
      "Cell \u001b[0;32mIn[19], line 1\u001b[0m\n\u001b[0;32m----> 1\u001b[0m \u001b[38;5;28;43mnext\u001b[39;49m\u001b[43m(\u001b[49m\u001b[38;5;28;43mrange\u001b[39;49m\u001b[43m(\u001b[49m\u001b[38;5;241;43m10\u001b[39;49m\u001b[43m)\u001b[49m\u001b[43m)\u001b[49m\n",
      "\u001b[0;31mTypeError\u001b[0m: 'range' object is not an iterator"
     ]
    }
   ],
   "source": [
    "next(range(10)) # range function is an iterator\n",
    "# range function is an iterable object"
   ]
  },
  {
   "cell_type": "code",
   "execution_count": 24,
   "id": "df768190-9953-44d3-a71f-07ecbf94a844",
   "metadata": {},
   "outputs": [
    {
     "data": {
      "text/plain": [
       "0"
      ]
     },
     "execution_count": 24,
     "metadata": {},
     "output_type": "execute_result"
    }
   ],
   "source": [
    "range(10)\n",
    "d=iter(range(10))\n",
    "next(d) # range is a iterable object / generator object\n",
    "# range is behaving like generator fun, not giving dataset direct;ly, only giving range"
   ]
  },
  {
   "cell_type": "code",
   "execution_count": 25,
   "id": "ba192182-124d-4bd0-be80-3b7de8e73ab7",
   "metadata": {},
   "outputs": [
    {
     "name": "stdout",
     "output_type": "stream",
     "text": [
      "0\n",
      "1\n",
      "2\n",
      "3\n",
      "4\n"
     ]
    }
   ],
   "source": [
    "def test(n):\n",
    "    for i in range(n):\n",
    "        print(i)\n",
    "test(5)"
   ]
  },
  {
   "cell_type": "code",
   "execution_count": 6,
   "id": "7fad9e41-3f62-4c0a-b182-ec9e43b5ea04",
   "metadata": {},
   "outputs": [
    {
     "name": "stdout",
     "output_type": "stream",
     "text": [
      "0\n",
      "1\n",
      "8\n",
      "27\n",
      "64\n",
      "125\n",
      "216\n"
     ]
    }
   ],
   "source": [
    "def gencube(n):\n",
    "    for i in range(n):\n",
    "        print(i**3)\n",
    "gencube(7)"
   ]
  },
  {
   "cell_type": "code",
   "execution_count": 7,
   "id": "9438432d-093a-4d60-81ac-c8e3c7a34d5c",
   "metadata": {},
   "outputs": [
    {
     "name": "stdout",
     "output_type": "stream",
     "text": [
      "0\n",
      "1\n",
      "8\n",
      "27\n",
      "64\n",
      "125\n",
      "216\n",
      "343\n",
      "512\n",
      "729\n"
     ]
    }
   ],
   "source": [
    "gencube(10)"
   ]
  },
  {
   "cell_type": "code",
   "execution_count": 12,
   "id": "183a7c07-07ea-42f4-a04a-44c2cbf14faf",
   "metadata": {},
   "outputs": [
    {
     "name": "stdout",
     "output_type": "stream",
     "text": [
      "0\n",
      "1\n",
      "8\n",
      "27\n",
      "64\n",
      "125\n",
      "216\n",
      "343\n",
      "512\n",
      "729\n"
     ]
    },
    {
     "ename": "TypeError",
     "evalue": "'NoneType' object is not an iterator",
     "output_type": "error",
     "traceback": [
      "\u001b[0;31m---------------------------------------------------------------------------\u001b[0m",
      "\u001b[0;31mTypeError\u001b[0m                                 Traceback (most recent call last)",
      "Cell \u001b[0;32mIn[12], line 1\u001b[0m\n\u001b[0;32m----> 1\u001b[0m \u001b[38;5;28;43mnext\u001b[39;49m\u001b[43m(\u001b[49m\u001b[43mgencube\u001b[49m\u001b[43m(\u001b[49m\u001b[38;5;241;43m10\u001b[39;49m\u001b[43m)\u001b[49m\u001b[43m)\u001b[49m\n",
      "\u001b[0;31mTypeError\u001b[0m: 'NoneType' object is not an iterator"
     ]
    }
   ],
   "source": [
    "next(gencube(10))"
   ]
  },
  {
   "cell_type": "code",
   "execution_count": 13,
   "id": "51e58aad-ec83-47d2-b90c-e03928f71317",
   "metadata": {},
   "outputs": [
    {
     "name": "stdout",
     "output_type": "stream",
     "text": [
      "0\n",
      "1\n",
      "8\n",
      "27\n",
      "64\n",
      "125\n",
      "216\n",
      "343\n",
      "512\n",
      "729\n"
     ]
    },
    {
     "ename": "TypeError",
     "evalue": "'NoneType' object is not iterable",
     "output_type": "error",
     "traceback": [
      "\u001b[0;31m---------------------------------------------------------------------------\u001b[0m",
      "\u001b[0;31mTypeError\u001b[0m                                 Traceback (most recent call last)",
      "Cell \u001b[0;32mIn[13], line 1\u001b[0m\n\u001b[0;32m----> 1\u001b[0m v\u001b[38;5;241m=\u001b[39m\u001b[38;5;28;43miter\u001b[39;49m\u001b[43m(\u001b[49m\u001b[43mgencube\u001b[49m\u001b[43m(\u001b[49m\u001b[38;5;241;43m10\u001b[39;49m\u001b[43m)\u001b[49m\u001b[43m)\u001b[49m\n\u001b[1;32m      2\u001b[0m \u001b[38;5;28mnext\u001b[39m(v)\n",
      "\u001b[0;31mTypeError\u001b[0m: 'NoneType' object is not iterable"
     ]
    }
   ],
   "source": [
    "v=iter(gencube(10))\n",
    "next(v)"
   ]
  },
  {
   "cell_type": "code",
   "execution_count": 14,
   "id": "299f2bfe-5513-418b-9939-a32b5a9cc1da",
   "metadata": {},
   "outputs": [
    {
     "data": {
      "text/plain": [
       "<generator object genfi at 0x7fbe420090b0>"
      ]
     },
     "execution_count": 14,
     "metadata": {},
     "output_type": "execute_result"
    }
   ],
   "source": [
    "def genfi(n):#fibanocci series function\n",
    "    a=1\n",
    "    b=1\n",
    "    for i in range(n):\n",
    "        yield a # try to remember what i difd l;ast time, think what i need to do next\n",
    "        a,b=b , a+b\n",
    "genfi(10)        \n",
    "# iterator created  "
   ]
  },
  {
   "cell_type": "code",
   "execution_count": 15,
   "id": "313aeea1-5a03-4e30-b46b-62fb51a0af72",
   "metadata": {},
   "outputs": [
    {
     "name": "stdout",
     "output_type": "stream",
     "text": [
      "1\n",
      "1\n",
      "2\n",
      "3\n",
      "5\n",
      "8\n",
      "13\n",
      "21\n",
      "34\n",
      "55\n"
     ]
    }
   ],
   "source": [
    "def genfi(n):#fibanocci series function\n",
    "    a=1\n",
    "    b=1\n",
    "    for i in range(n):\n",
    "        print(a)\n",
    "        a,b=b , a+b\n",
    "genfi(10)        "
   ]
  },
  {
   "cell_type": "code",
   "execution_count": 19,
   "id": "16f091e6-1eee-440b-842b-7cb594758751",
   "metadata": {},
   "outputs": [
    {
     "name": "stdout",
     "output_type": "stream",
     "text": [
      "0\n",
      "1\n",
      "1\n",
      "2\n",
      "3\n",
      "5\n",
      "8\n",
      "13\n",
      "21\n",
      "34\n"
     ]
    }
   ],
   "source": [
    "def genfi(n):#fibanocci series function\n",
    "    a=0\n",
    "    b=1\n",
    "    for i in range(n):\n",
    "        print(a)\n",
    "        a,b=b , a+b # a=b, b=a+b\n",
    "genfi(10) "
   ]
  },
  {
   "cell_type": "code",
   "execution_count": 20,
   "id": "c4847b4b-31b0-453d-a997-bd9531721480",
   "metadata": {},
   "outputs": [
    {
     "name": "stdout",
     "output_type": "stream",
     "text": [
      "0\n",
      "1\n",
      "1\n",
      "2\n",
      "3\n",
      "5\n",
      "8\n",
      "13\n",
      "21\n",
      "34\n"
     ]
    },
    {
     "ename": "TypeError",
     "evalue": "'NoneType' object is not iterable",
     "output_type": "error",
     "traceback": [
      "\u001b[0;31m---------------------------------------------------------------------------\u001b[0m",
      "\u001b[0;31mTypeError\u001b[0m                                 Traceback (most recent call last)",
      "Cell \u001b[0;32mIn[20], line 1\u001b[0m\n\u001b[0;32m----> 1\u001b[0m \u001b[38;5;28;01mfor\u001b[39;00m i \u001b[38;5;129;01min\u001b[39;00m genfi(\u001b[38;5;241m10\u001b[39m):\n\u001b[1;32m      2\u001b[0m     \u001b[38;5;28mprint\u001b[39m(i)\n",
      "\u001b[0;31mTypeError\u001b[0m: 'NoneType' object is not iterable"
     ]
    }
   ],
   "source": [
    "for i in genfi(10):\n",
    "    print(i)"
   ]
  },
  {
   "cell_type": "code",
   "execution_count": 37,
   "id": "91f17ecf-6f8e-4190-9875-ea0925a0477e",
   "metadata": {},
   "outputs": [
    {
     "name": "stdout",
     "output_type": "stream",
     "text": [
      "0\n",
      "1\n",
      "1\n",
      "2\n",
      "3\n",
      "5\n",
      "8\n",
      "13\n",
      "21\n",
      "34\n"
     ]
    },
    {
     "ename": "TypeError",
     "evalue": "'NoneType' object is not iterable",
     "output_type": "error",
     "traceback": [
      "\u001b[0;31m---------------------------------------------------------------------------\u001b[0m",
      "\u001b[0;31mTypeError\u001b[0m                                 Traceback (most recent call last)",
      "Cell \u001b[0;32mIn[37], line 1\u001b[0m\n\u001b[0;32m----> 1\u001b[0m b\u001b[38;5;241m=\u001b[39m\u001b[38;5;28;43miter\u001b[39;49m\u001b[43m(\u001b[49m\u001b[43mgenfi\u001b[49m\u001b[43m(\u001b[49m\u001b[38;5;241;43m10\u001b[39;49m\u001b[43m)\u001b[49m\u001b[43m)\u001b[49m\n\u001b[1;32m      2\u001b[0m \u001b[38;5;28mnext\u001b[39m(b)\n",
      "\u001b[0;31mTypeError\u001b[0m: 'NoneType' object is not iterable"
     ]
    }
   ],
   "source": [
    "b=iter(genfi(10))\n",
    "next(b)"
   ]
  },
  {
   "cell_type": "code",
   "execution_count": 25,
   "id": "39f8d5c4-0410-4cff-8781-92e7ea26f371",
   "metadata": {},
   "outputs": [
    {
     "data": {
      "text/plain": [
       "16"
      ]
     },
     "execution_count": 25,
     "metadata": {},
     "output_type": "execute_result"
    }
   ],
   "source": [
    "def square(n):\n",
    "    return n**2\n",
    "square(4)"
   ]
  },
  {
   "cell_type": "code",
   "execution_count": 38,
   "id": "b364a40b-3b73-411b-b04e-e28a0c1551a9",
   "metadata": {},
   "outputs": [
    {
     "data": {
      "text/plain": [
       "[1, 4, 9, 16, 25, 36, 49]"
      ]
     },
     "execution_count": 38,
     "metadata": {},
     "output_type": "execute_result"
    }
   ],
   "source": [
    "l=[1,2,3,4,5,6,7]\n",
    "n=[]\n",
    "for i in l:\n",
    "   n.append(square(i))\n",
    "n"
   ]
  },
  {
   "cell_type": "code",
   "execution_count": 39,
   "id": "ff9617a7-f8b5-4b1f-b933-b5fbcbb8f552",
   "metadata": {},
   "outputs": [
    {
     "data": {
      "text/plain": [
       "[1, 4, 9, 16, 25, 36, 49]"
      ]
     },
     "execution_count": 39,
     "metadata": {},
     "output_type": "execute_result"
    }
   ],
   "source": [
    "[i**2 for i in l]"
   ]
  },
  {
   "cell_type": "code",
   "execution_count": 40,
   "id": "f00170c6-7d1c-45ca-8757-d0e60be12c99",
   "metadata": {},
   "outputs": [],
   "source": [
    "\n",
    "def square(n):\n",
    "    return n**2"
   ]
  },
  {
   "cell_type": "code",
   "execution_count": 41,
   "id": "2c0cd33b-ed02-4dae-a16f-aa5c31f0b33b",
   "metadata": {},
   "outputs": [
    {
     "data": {
      "text/plain": [
       "[1, 2, 3, 4, 5, 6, 7]"
      ]
     },
     "execution_count": 41,
     "metadata": {},
     "output_type": "execute_result"
    }
   ],
   "source": [
    "l"
   ]
  },
  {
   "cell_type": "code",
   "execution_count": 44,
   "id": "49c0f5dc-00db-4129-a128-90489b8d1972",
   "metadata": {},
   "outputs": [
    {
     "data": {
      "text/plain": [
       "[1, 4, 9, 16, 25, 36, 49]"
      ]
     },
     "execution_count": 44,
     "metadata": {},
     "output_type": "execute_result"
    }
   ],
   "source": [
    "\n",
    "list(map(square,l)) # a function as first argument, iterable object are second argument"
   ]
  },
  {
   "cell_type": "code",
   "execution_count": 45,
   "id": "8e601361-cf95-4a81-86da-5b12ca3aee9a",
   "metadata": {},
   "outputs": [
    {
     "name": "stdout",
     "output_type": "stream",
     "text": [
      "1\n",
      "4\n",
      "9\n",
      "16\n",
      "25\n",
      "36\n",
      "49\n"
     ]
    }
   ],
   "source": [
    "for i in map(square,l):\n",
    "    print(i)"
   ]
  },
  {
   "cell_type": "code",
   "execution_count": 46,
   "id": "0636d15c-2255-4072-a6fb-c940cc4da913",
   "metadata": {},
   "outputs": [
    {
     "data": {
      "text/plain": [
       "[1, 2, 3, 4, 5, 6, 7]"
      ]
     },
     "execution_count": 46,
     "metadata": {},
     "output_type": "execute_result"
    }
   ],
   "source": [
    "#lambda function\n",
    "l"
   ]
  },
  {
   "cell_type": "code",
   "execution_count": 49,
   "id": "3bd7de25-9d8b-4c22-85b6-f39781edc0a9",
   "metadata": {},
   "outputs": [
    {
     "data": {
      "text/plain": [
       "[1, 4, 9, 16, 25, 36, 49]"
      ]
     },
     "execution_count": 49,
     "metadata": {},
     "output_type": "execute_result"
    }
   ],
   "source": [
    "list(map(lambda x:x**2,l)) # lambda is a keyword\n",
    "# lambda fun- anonymous fun, (means fun without name)\n",
    "# anonymous fun taking 1 argument here, returning square."
   ]
  },
  {
   "cell_type": "code",
   "execution_count": 54,
   "id": "5ec7ad60-3724-44dc-bcbf-5e6a8990006a",
   "metadata": {},
   "outputs": [
    {
     "data": {
      "text/plain": [
       "[1, 4, 9, 16, 25, 36, 49]"
      ]
     },
     "execution_count": 54,
     "metadata": {},
     "output_type": "execute_result"
    }
   ],
   "source": [
    "c=lambda x:x**2\n",
    "list(map(c,l))"
   ]
  },
  {
   "cell_type": "code",
   "execution_count": null,
   "id": "4d550680-8636-4c9d-b0a2-3aa6ed784f7c",
   "metadata": {},
   "outputs": [],
   "source": [
    "# map fun-  performing "
   ]
  },
  {
   "cell_type": "code",
   "execution_count": 58,
   "id": "bd94e284-89df-4219-8bf2-993a796a2c0b",
   "metadata": {},
   "outputs": [
    {
     "data": {
      "text/plain": [
       "[9, 12, 15, 19]"
      ]
     },
     "execution_count": 58,
     "metadata": {},
     "output_type": "execute_result"
    }
   ],
   "source": [
    "a=[1,2,3,4]\n",
    "b=[5,6,7,8]\n",
    "c=[3,4,5,7,4,5,7,9]\n",
    "# find summation of list in index wise\n",
    "def summation(x,y,z):\n",
    "    return x+y+z\n",
    "list(map(summation,a,b,c))\n",
    "# summation have 3 arguments, so map fun need 3 iterable objects\n"
   ]
  },
  {
   "cell_type": "code",
   "execution_count": 60,
   "id": "5bd42b0f-c1e0-4f81-bf41-9c57c59252ca",
   "metadata": {},
   "outputs": [
    {
     "data": {
      "text/plain": [
       "[9, 12, 15, 19]"
      ]
     },
     "execution_count": 60,
     "metadata": {},
     "output_type": "execute_result"
    }
   ],
   "source": [
    "list(map(lambda x,y,z: x+y+z,a,b,c))"
   ]
  },
  {
   "cell_type": "code",
   "execution_count": 61,
   "id": "61166723-fa10-4eaa-86d9-9487d1a742ee",
   "metadata": {},
   "outputs": [
    {
     "data": {
      "text/plain": [
       "21"
      ]
     },
     "execution_count": 61,
     "metadata": {},
     "output_type": "execute_result"
    }
   ],
   "source": [
    "# reduce function\n",
    "from functools import reduce\n",
    "def summation(a,b):\n",
    "    return a+b\n",
    "l=[1,2,3,4,5,6]\n",
    "reduce(summation,l) #first argument- function, second- sequence\n",
    "# aggregation operation."
   ]
  },
  {
   "cell_type": "code",
   "execution_count": 62,
   "id": "a2dd42be-2cb6-47ac-9d30-854d895f6b26",
   "metadata": {},
   "outputs": [
    {
     "data": {
      "text/plain": [
       "21"
      ]
     },
     "execution_count": 62,
     "metadata": {},
     "output_type": "execute_result"
    }
   ],
   "source": [
    "reduce(lambda x,y: x+y,l) # cumulative addition. etc will get through this ,method"
   ]
  },
  {
   "cell_type": "code",
   "execution_count": 66,
   "id": "9a7bf014-4359-4f34-ac2d-fed04c81300a",
   "metadata": {},
   "outputs": [
    {
     "data": {
      "text/plain": [
       "[2, 4, 6, 4, 6, 8, 2, 0, 78]"
      ]
     },
     "execution_count": 66,
     "metadata": {},
     "output_type": "execute_result"
    }
   ],
   "source": [
    "#filter fun- filter out data\n",
    "l=[2,3,4,5,6,7,4,6,5,8,2,0,33,45,78]\n",
    "list(filter(lambda x:x%2==0,l)) # printing the evn no\n",
    "#only true dataset get as output"
   ]
  },
  {
   "cell_type": "code",
   "execution_count": 67,
   "id": "27a57e11-bddc-4896-8a3e-73c15b617319",
   "metadata": {},
   "outputs": [
    {
     "data": {
      "text/plain": [
       "[2, 4, 6, 4, 6, 8, 2, 0, 78]"
      ]
     },
     "execution_count": 67,
     "metadata": {},
     "output_type": "execute_result"
    }
   ],
   "source": [
    "def even_check(n):\n",
    "    if n%2==0:\n",
    "        return True\n",
    "list(filter(even_check,l))"
   ]
  },
  {
   "cell_type": "code",
   "execution_count": 69,
   "id": "5b0041de-fa6b-45b2-9da2-d3c4a08a5bde",
   "metadata": {},
   "outputs": [
    {
     "data": {
      "text/plain": [
       "[3, 5, 7, 5, 33, 45]"
      ]
     },
     "execution_count": 69,
     "metadata": {},
     "output_type": "execute_result"
    }
   ],
   "source": [
    "def even_check(n):\n",
    "    if n%2 !=0:\n",
    "        return True\n",
    "list(filter(even_check,l))"
   ]
  },
  {
   "cell_type": "code",
   "execution_count": null,
   "id": "3a8252bb-78d4-4cfe-a4e6-3f05f1e70783",
   "metadata": {},
   "outputs": [],
   "source": []
  }
 ],
 "metadata": {
  "kernelspec": {
   "display_name": "Python 3 (ipykernel)",
   "language": "python",
   "name": "python3"
  },
  "language_info": {
   "codemirror_mode": {
    "name": "ipython",
    "version": 3
   },
   "file_extension": ".py",
   "mimetype": "text/x-python",
   "name": "python",
   "nbconvert_exporter": "python",
   "pygments_lexer": "ipython3",
   "version": "3.8.10"
  }
 },
 "nbformat": 4,
 "nbformat_minor": 5
}
