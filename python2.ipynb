{
 "cells": [
  {
   "cell_type": "code",
   "execution_count": 2,
   "id": "7e58821d-5163-452c-b335-7acb27f4ced9",
   "metadata": {},
   "outputs": [
    {
     "data": {
      "text/plain": [
       "10"
      ]
     },
     "execution_count": 2,
     "metadata": {},
     "output_type": "execute_result"
    }
   ],
   "source": [
    "a=10\n",
    "a"
   ]
  },
  {
   "cell_type": "code",
   "execution_count": 3,
   "id": "a9fb50ae-d79d-4ef1-bff0-00df07adc155",
   "metadata": {},
   "outputs": [
    {
     "data": {
      "text/plain": [
       "2.5"
      ]
     },
     "execution_count": 3,
     "metadata": {},
     "output_type": "execute_result"
    }
   ],
   "source": [
    "b=2.5\n",
    "b"
   ]
  },
  {
   "cell_type": "code",
   "execution_count": 4,
   "id": "14f72a70-4a8b-4b10-ba99-544e1e3952b4",
   "metadata": {},
   "outputs": [
    {
     "data": {
      "text/plain": [
       "int"
      ]
     },
     "execution_count": 4,
     "metadata": {},
     "output_type": "execute_result"
    }
   ],
   "source": [
    "type(a)"
   ]
  },
  {
   "cell_type": "code",
   "execution_count": 5,
   "id": "23ec6498-c319-45c2-8941-6342c499a3f5",
   "metadata": {},
   "outputs": [
    {
     "data": {
      "text/plain": [
       "float"
      ]
     },
     "execution_count": 5,
     "metadata": {},
     "output_type": "execute_result"
    }
   ],
   "source": [
    "type(b)"
   ]
  },
  {
   "cell_type": "code",
   "execution_count": 6,
   "id": "b58c4fdf-7645-483c-bd07-62a547c10f8a",
   "metadata": {},
   "outputs": [
    {
     "data": {
      "text/plain": [
       "True"
      ]
     },
     "execution_count": 6,
     "metadata": {},
     "output_type": "execute_result"
    }
   ],
   "source": [
    "c=True\n",
    "c"
   ]
  },
  {
   "cell_type": "code",
   "execution_count": 7,
   "id": "beaa0894-ac4b-4093-9193-f235166e906c",
   "metadata": {},
   "outputs": [
    {
     "data": {
      "text/plain": [
       "2"
      ]
     },
     "execution_count": 7,
     "metadata": {},
     "output_type": "execute_result"
    }
   ],
   "source": [
    "True+True"
   ]
  },
  {
   "cell_type": "code",
   "execution_count": 8,
   "id": "e989b917-809c-444c-ab1d-3bf867b9218b",
   "metadata": {},
   "outputs": [
    {
     "data": {
      "text/plain": [
       "1"
      ]
     },
     "execution_count": 8,
     "metadata": {},
     "output_type": "execute_result"
    }
   ],
   "source": [
    "True+False"
   ]
  },
  {
   "cell_type": "code",
   "execution_count": 9,
   "id": "4e0116bf-afa2-40db-ad22-21ad1b35d3bb",
   "metadata": {},
   "outputs": [
    {
     "data": {
      "text/plain": [
       "'dfgf\\nsd\\nsfdsf'"
      ]
     },
     "execution_count": 9,
     "metadata": {},
     "output_type": "execute_result"
    }
   ],
   "source": [
    "\"\"\"dfgf\n",
    "sd\n",
    "sfdsf\"\"\"\n",
    "# multiline comment"
   ]
  },
  {
   "cell_type": "code",
   "execution_count": 10,
   "id": "f44f7c98-80ec-4c1d-b901-b03fb8160699",
   "metadata": {},
   "outputs": [
    {
     "data": {
      "text/plain": [
       "139931578466096"
      ]
     },
     "execution_count": 10,
     "metadata": {},
     "output_type": "execute_result"
    }
   ],
   "source": [
    "s='opppsps'\n",
    "id(s) #physical memory location"
   ]
  },
  {
   "cell_type": "code",
   "execution_count": 21,
   "id": "12dfa072-924d-4a6b-91a5-bf0973017012",
   "metadata": {},
   "outputs": [
    {
     "data": {
      "text/plain": [
       "139931658631664"
      ]
     },
     "execution_count": 21,
     "metadata": {},
     "output_type": "execute_result"
    }
   ],
   "source": [
    "s='opppsps'\n",
    "id(s[0]) "
   ]
  },
  {
   "cell_type": "code",
   "execution_count": 11,
   "id": "2cb61392-64c4-4212-b5c0-149498d7e2cf",
   "metadata": {},
   "outputs": [
    {
     "data": {
      "text/plain": [
       "'ineur'"
      ]
     },
     "execution_count": 11,
     "metadata": {},
     "output_type": "execute_result"
    }
   ],
   "source": [
    "s='ineuron'\n",
    "s[0:5]"
   ]
  },
  {
   "cell_type": "code",
   "execution_count": 12,
   "id": "6241cdd3-17f9-4a3d-be57-f263af5ac587",
   "metadata": {},
   "outputs": [
    {
     "data": {
      "text/plain": [
       "'ier'"
      ]
     },
     "execution_count": 12,
     "metadata": {},
     "output_type": "execute_result"
    }
   ],
   "source": [
    "s='ineuron'\n",
    "s[0:5:2]"
   ]
  },
  {
   "cell_type": "code",
   "execution_count": 13,
   "id": "6b072053-c37b-439d-bebc-defc3101e193",
   "metadata": {},
   "outputs": [
    {
     "data": {
      "text/plain": [
       "''"
      ]
     },
     "execution_count": 13,
     "metadata": {},
     "output_type": "execute_result"
    }
   ],
   "source": [
    "s='ineuron'\n",
    "s[0:5:-1]"
   ]
  },
  {
   "cell_type": "code",
   "execution_count": 14,
   "id": "e42f60e4-8f38-4ae0-8a31-e251e4ddb7e6",
   "metadata": {},
   "outputs": [
    {
     "data": {
      "text/plain": [
       "'oruen'"
      ]
     },
     "execution_count": 14,
     "metadata": {},
     "output_type": "execute_result"
    }
   ],
   "source": [
    "s='ineuron'\n",
    "s[5:0:-1]"
   ]
  },
  {
   "cell_type": "code",
   "execution_count": 15,
   "id": "356c481f-3540-4afd-8bbd-be856a2d2b6a",
   "metadata": {},
   "outputs": [
    {
     "data": {
      "text/plain": [
       "list"
      ]
     },
     "execution_count": 15,
     "metadata": {},
     "output_type": "execute_result"
    }
   ],
   "source": [
    "c=[]\n",
    "type(c)"
   ]
  },
  {
   "cell_type": "code",
   "execution_count": 17,
   "id": "be6d7be3-128a-4544-b043-5a483acba5d5",
   "metadata": {},
   "outputs": [
    {
     "data": {
      "text/plain": [
       "[1, 2, 'sufh', 6.7, True, (6+7j)]"
      ]
     },
     "execution_count": 17,
     "metadata": {},
     "output_type": "execute_result"
    }
   ],
   "source": [
    "c=[1,2,\"sufh\",6.7,True,6+7j]\n",
    "c"
   ]
  },
  {
   "cell_type": "code",
   "execution_count": 18,
   "id": "7f967688-46a5-4b11-9836-466fa5ba0ca2",
   "metadata": {},
   "outputs": [
    {
     "data": {
      "text/plain": [
       "[1, 2, 'sufh', 6.7, True, (6+7j), [1, 2, 3, 4]]"
      ]
     },
     "execution_count": 18,
     "metadata": {},
     "output_type": "execute_result"
    }
   ],
   "source": [
    "c=[1,2,\"sufh\",6.7,True,(6+7j),[1,2,3,4]]\n",
    "c"
   ]
  },
  {
   "cell_type": "code",
   "execution_count": 19,
   "id": "833e48d1-d82f-48c2-9ea4-630e1429d5de",
   "metadata": {},
   "outputs": [
    {
     "data": {
      "text/plain": [
       "[]"
      ]
     },
     "execution_count": 19,
     "metadata": {},
     "output_type": "execute_result"
    }
   ],
   "source": [
    "c[-1:-5]"
   ]
  },
  {
   "cell_type": "code",
   "execution_count": null,
   "id": "d7b9fc71-b6b9-4c4e-9211-57a53fbd221c",
   "metadata": {},
   "outputs": [],
   "source": []
  }
 ],
 "metadata": {
  "kernelspec": {
   "display_name": "Python 3 (ipykernel)",
   "language": "python",
   "name": "python3"
  },
  "language_info": {
   "codemirror_mode": {
    "name": "ipython",
    "version": 3
   },
   "file_extension": ".py",
   "mimetype": "text/x-python",
   "name": "python",
   "nbconvert_exporter": "python",
   "pygments_lexer": "ipython3",
   "version": "3.8.10"
  }
 },
 "nbformat": 4,
 "nbformat_minor": 5
}
