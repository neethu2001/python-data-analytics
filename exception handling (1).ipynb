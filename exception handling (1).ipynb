{
 "cells": [
  {
   "cell_type": "code",
   "execution_count": 3,
   "id": "d4a9cbec-9339-4526-a913-618192b02eca",
   "metadata": {},
   "outputs": [
    {
     "name": "stdout",
     "output_type": "stream",
     "text": [
      "my name is neeths\n"
     ]
    }
   ],
   "source": [
    "class person:\n",
    "    def __init__(self,a,b,c):\n",
    "        self.a=a\n",
    "        self.b=b\n",
    "        self.c=c\n",
    "    def __str__(self):\n",
    "        return \"my name is neeths\"\n",
    "p=person(3,4,5)\n",
    "print(p)"
   ]
  },
  {
   "cell_type": "code",
   "execution_count": 8,
   "id": "e1fba111-f59b-4ff2-a8e8-4345c51c8970",
   "metadata": {},
   "outputs": [
    {
     "name": "stdout",
     "output_type": "stream",
     "text": [
      "my name is neethsmy name id yauyosya\n"
     ]
    }
   ],
   "source": [
    "class student(person):\n",
    "    def __init(self,student_id,*args): #overiding the iniit method\n",
    "        super(sudent,self).__init__(*args)\n",
    "        self.student_id=student_id\n",
    "    def __str__(self):\n",
    "        return super(student,self).__str__()+\"my name id yauyosya\" \n",
    "        #while returning the super class, function call,then the sentence. which u want to wrote\n",
    "s=student(4,5,6)\n",
    "print(s)"
   ]
  },
  {
   "cell_type": "markdown",
   "id": "6211d8f8-751b-4a82-8e36-d165b24aa125",
   "metadata": {},
   "source": [
    "\n",
    "# composite encapsulation- whenever calling the fuction need to pass the object of each variable"
   ]
  },
  {
   "cell_type": "code",
   "execution_count": 15,
   "id": "0d77ebfb-4baa-4967-aa5b-912a98bac1b7",
   "metadata": {},
   "outputs": [
    {
     "name": "stdout",
     "output_type": "stream",
     "text": [
      "sds 35 323\n"
     ]
    }
   ],
   "source": [
    "# encpsulation - eg: we know output & input, don;t know implementation\n",
    "class tyre:\n",
    "    def __init__(self,branch,baise,opt_pre):\n",
    "        self.branch=branch\n",
    "        self.baise=baise\n",
    "        self.opt_pre=opt_pre\n",
    "    def __str__(self):\n",
    "        return str(self.branch)+\" \"+ str(self.baise)+\" \"+ str(self.opt_pre)\n",
    "t=tyre(\"sds\",35,323)\n",
    "print(t)"
   ]
  },
  {
   "cell_type": "code",
   "execution_count": 16,
   "id": "b75c230e-4f4c-4e53-983e-40172996ad5d",
   "metadata": {},
   "outputs": [
    {
     "name": "stdout",
     "output_type": "stream",
     "text": [
      "232 petrol\n"
     ]
    }
   ],
   "source": [
    "class engin:\n",
    "    def __init__(self,fuel_type,noise_level):\n",
    "        self.fuel_type=fuel_type\n",
    "        self.noise_level=noise_level\n",
    "    def __str__(self):\n",
    "        return str(self.noise_level)+ \" \"+ str(self.fuel_type)\n",
    "e=engin('petrol',232)\n",
    "print(e)"
   ]
  },
  {
   "cell_type": "code",
   "execution_count": 17,
   "id": "c3d28e78-34cb-4826-ae3e-c2db297194bd",
   "metadata": {},
   "outputs": [
    {
     "name": "stdout",
     "output_type": "stream",
     "text": [
      "this is my def of engin class  small\n"
     ]
    }
   ],
   "source": [
    "class body:\n",
    "    def __init__(self,body_size):\n",
    "        self.body_size=body_size\n",
    "    def __str__(self):\n",
    "        return \"this is my def of engin class\" +\"  \"+str(self.body_size)\n",
    "b=body('small')\n",
    "print(b)"
   ]
  },
  {
   "cell_type": "code",
   "execution_count": 18,
   "id": "7896b4a0-27a6-477a-bf74-f95431b00e73",
   "metadata": {},
   "outputs": [
    {
     "name": "stdout",
     "output_type": "stream",
     "text": [
      "sds 35 323 232 petrol this is my def of engin class  small\n"
     ]
    }
   ],
   "source": [
    "class car:\n",
    "    def __init__(self,ti,ei,bi):\n",
    "        self.ti=ti\n",
    "        self.ei=ei\n",
    "        self.bi=bi\n",
    "    def __str__(self):\n",
    "        return str(self.ti)+\" \"+str(self.ei)+\" \" +str(self.bi)\n",
    "c=car(t,e,b)\n",
    "print(c)"
   ]
  },
  {
   "cell_type": "code",
   "execution_count": 12,
   "id": "14e57373-0fc9-40a4-99a5-9209bb31f05b",
   "metadata": {},
   "outputs": [
    {
     "data": {
      "text/plain": [
       "range(0, 10)"
      ]
     },
     "execution_count": 12,
     "metadata": {},
     "output_type": "execute_result"
    }
   ],
   "source": [
    "range(0,10)"
   ]
  },
  {
   "cell_type": "markdown",
   "id": "9078edea-9e81-440e-9157-b5c76aa8e786",
   "metadata": {},
   "source": [
    "# dynamic encapsulation"
   ]
  },
  {
   "cell_type": "code",
   "execution_count": 20,
   "id": "90c08b3a-20b6-4626-b920-c97679b691d8",
   "metadata": {},
   "outputs": [
    {
     "name": "stdout",
     "output_type": "stream",
     "text": [
      "sds 35 323 232 petrol this is my def of engin class small\n"
     ]
    }
   ],
   "source": [
    "c=car(t,e,\"this is my def of engin class small\")\n",
    "print(c)"
   ]
  },
  {
   "cell_type": "code",
   "execution_count": 22,
   "id": "4335ca76-e159-40c8-86bf-025f754b3d7b",
   "metadata": {},
   "outputs": [],
   "source": [
    "#dynamic- supposed to give object + your own dataset\n",
    "#composite-always try to give the object which we are already implemented\n",
    "\n"
   ]
  },
  {
   "cell_type": "markdown",
   "id": "6aaedf5b-72b3-4044-9ea4-94d58f2cdc52",
   "metadata": {},
   "source": [
    "# polymorphism- person is same, behaviour is changing\n"
   ]
  },
  {
   "cell_type": "code",
   "execution_count": 23,
   "id": "946d3c33-3c03-427c-8f40-95c1ab5063b2",
   "metadata": {},
   "outputs": [
    {
     "data": {
      "text/plain": [
       "'sudhkumar'"
      ]
     },
     "execution_count": 23,
     "metadata": {},
     "output_type": "execute_result"
    }
   ],
   "source": [
    "def add_x(a,b):\n",
    "    return a+b\n",
    "add_x(\"sudh\",\"kumar\")"
   ]
  },
  {
   "cell_type": "code",
   "execution_count": 24,
   "id": "0fde30c4-4d39-483b-b4d1-720355a675b2",
   "metadata": {},
   "outputs": [
    {
     "data": {
      "text/plain": [
       "9"
      ]
     },
     "execution_count": 24,
     "metadata": {},
     "output_type": "execute_result"
    }
   ],
   "source": [
    "add_x(3,6)"
   ]
  },
  {
   "cell_type": "code",
   "execution_count": 25,
   "id": "82abc745-8e18-49d3-9609-7345f29f3efd",
   "metadata": {},
   "outputs": [
    {
     "data": {
      "text/plain": [
       "[3, 4, 6, 4, 3, 5, 2, 8]"
      ]
     },
     "execution_count": 25,
     "metadata": {},
     "output_type": "execute_result"
    }
   ],
   "source": [
    "add_x([3,4,6,4],[3,5,2,8])"
   ]
  },
  {
   "cell_type": "code",
   "execution_count": 27,
   "id": "e0216e08-739c-4a15-a876-b0c09bbe3bb2",
   "metadata": {},
   "outputs": [
    {
     "data": {
      "text/plain": [
       "'sudhsudhsudhsudhsudhsudh'"
      ]
     },
     "execution_count": 27,
     "metadata": {},
     "output_type": "execute_result"
    }
   ],
   "source": [
    "def add_x(a,b):\n",
    "    return a*b\n",
    "add_x(\"sudh\",6)"
   ]
  },
  {
   "cell_type": "code",
   "execution_count": 28,
   "id": "7820940e-6cd9-494f-8b6b-07139f7e68eb",
   "metadata": {},
   "outputs": [
    {
     "data": {
      "text/plain": [
       "[3, 4, 6, 4, 3, 4, 6, 4, 3, 4, 6, 4]"
      ]
     },
     "execution_count": 28,
     "metadata": {},
     "output_type": "execute_result"
    }
   ],
   "source": [
    "add_x([3,4,6,4],3)"
   ]
  },
  {
   "cell_type": "code",
   "execution_count": 2,
   "id": "3f3434c1-2512-4f19-b61d-25a1756b7d13",
   "metadata": {},
   "outputs": [],
   "source": [
    "#file handling\n",
    "f = open(\"xyz.txt\", \"a\") # append\n",
    "f.write(\"my name is guru!\")\n",
    "f.close()"
   ]
  },
  {
   "cell_type": "code",
   "execution_count": 3,
   "id": "ef4a7168-f0a5-4451-bbb7-c82f0e00929a",
   "metadata": {},
   "outputs": [
    {
     "data": {
      "text/plain": [
       "<_io.TextIOWrapper name='xyz.txt' mode='r' encoding='cp1252'>"
      ]
     },
     "execution_count": 3,
     "metadata": {},
     "output_type": "execute_result"
    }
   ],
   "source": [
    "f=open('xyz.txt')\n",
    "f"
   ]
  },
  {
   "cell_type": "code",
   "execution_count": 4,
   "id": "622a3137-8823-4481-9a07-c7b04f2b55da",
   "metadata": {},
   "outputs": [
    {
     "data": {
      "text/plain": [
       "'my name is guru!'"
      ]
     },
     "execution_count": 4,
     "metadata": {},
     "output_type": "execute_result"
    }
   ],
   "source": [
    "f.read()"
   ]
  },
  {
   "cell_type": "code",
   "execution_count": 7,
   "id": "e941c518-352c-4a06-bb8e-7b202b7f5c46",
   "metadata": {},
   "outputs": [
    {
     "data": {
      "text/plain": [
       "2"
      ]
     },
     "execution_count": 7,
     "metadata": {},
     "output_type": "execute_result"
    }
   ],
   "source": [
    "f.seek(2)# adjust pointer, w can start from this point"
   ]
  },
  {
   "cell_type": "code",
   "execution_count": 8,
   "id": "9cdc76ac-fb2c-45d5-b2dd-8d65c8a87711",
   "metadata": {},
   "outputs": [
    {
     "data": {
      "text/plain": [
       "' name is guru!'"
      ]
     },
     "execution_count": 8,
     "metadata": {},
     "output_type": "execute_result"
    }
   ],
   "source": [
    "f.read()"
   ]
  },
  {
   "cell_type": "code",
   "execution_count": 10,
   "id": "dc66d148-43ee-4d78-8b9f-d7e160b8ef3e",
   "metadata": {},
   "outputs": [
    {
     "data": {
      "text/plain": [
       "13"
      ]
     },
     "execution_count": 10,
     "metadata": {},
     "output_type": "execute_result"
    }
   ],
   "source": [
    "f1=open('xyz.txt',\"w+\") # writing something\n",
    "f1.write(\"thisb is sufh\")"
   ]
  },
  {
   "cell_type": "code",
   "execution_count": 12,
   "id": "2bcd902d-3312-4feb-965f-ee027ce4edb3",
   "metadata": {},
   "outputs": [
    {
     "data": {
      "text/plain": [
       "' is sufh'"
      ]
     },
     "execution_count": 12,
     "metadata": {},
     "output_type": "execute_result"
    }
   ],
   "source": [
    "f1.seek(5)\n",
    "f1.read()"
   ]
  },
  {
   "cell_type": "code",
   "execution_count": 13,
   "id": "da9b0cea-6b7c-4515-b7c3-9bc4fc143356",
   "metadata": {},
   "outputs": [
    {
     "name": "stdout",
     "output_type": "stream",
     "text": [
      "thisb is sufh\n"
     ]
    }
   ],
   "source": [
    "for i in open('xyz.txt'):\n",
    "    print(i)"
   ]
  },
  {
   "cell_type": "code",
   "execution_count": 14,
   "id": "5d26355b-e3b0-46b3-a5db-4a5efe3c4e2f",
   "metadata": {},
   "outputs": [],
   "source": [
    "s=\"sudh\""
   ]
  },
  {
   "cell_type": "code",
   "execution_count": 16,
   "id": "ea3d74a2-9b4a-4962-a96d-72853b5b1cdf",
   "metadata": {},
   "outputs": [
    {
     "name": "stdin",
     "output_type": "stream",
     "text": [
      " 56\n"
     ]
    }
   ],
   "source": [
    "from io import StringIO\n",
    "s=input()"
   ]
  },
  {
   "cell_type": "code",
   "execution_count": 17,
   "id": "0015673a-6150-4f39-957e-e3fb66802117",
   "metadata": {},
   "outputs": [
    {
     "data": {
      "text/plain": [
       "str"
      ]
     },
     "execution_count": 17,
     "metadata": {},
     "output_type": "execute_result"
    }
   ],
   "source": [
    "s1=StringIO(s)\n",
    "type(s)"
   ]
  },
  {
   "cell_type": "code",
   "execution_count": 18,
   "id": "c5f05e9e-0a89-4c91-a039-17d3e523c124",
   "metadata": {},
   "outputs": [
    {
     "data": {
      "text/plain": [
       "_io.StringIO"
      ]
     },
     "execution_count": 18,
     "metadata": {},
     "output_type": "execute_result"
    }
   ],
   "source": [
    "type(s1)"
   ]
  },
  {
   "cell_type": "code",
   "execution_count": 19,
   "id": "988aae6b-35b8-48cd-b6d0-cc9c4f737667",
   "metadata": {},
   "outputs": [
    {
     "data": {
      "text/plain": [
       "'56'"
      ]
     },
     "execution_count": 19,
     "metadata": {},
     "output_type": "execute_result"
    }
   ],
   "source": [
    "s1.read()"
   ]
  },
  {
   "cell_type": "code",
   "execution_count": 20,
   "id": "e7657c06-4037-40bd-80f5-7ca32af4eba8",
   "metadata": {},
   "outputs": [
    {
     "data": {
      "text/plain": [
       "8"
      ]
     },
     "execution_count": 20,
     "metadata": {},
     "output_type": "execute_result"
    }
   ],
   "source": [
    "s1.seek(8)"
   ]
  },
  {
   "cell_type": "code",
   "execution_count": 21,
   "id": "ede348c3-0497-42d6-bb07-a08d1684a106",
   "metadata": {},
   "outputs": [
    {
     "data": {
      "text/plain": [
       "''"
      ]
     },
     "execution_count": 21,
     "metadata": {},
     "output_type": "execute_result"
    }
   ],
   "source": [
    "s1.read()"
   ]
  },
  {
   "cell_type": "code",
   "execution_count": 22,
   "id": "e7faa943-6aae-4195-b926-4a3ac7fe73ca",
   "metadata": {},
   "outputs": [
    {
     "data": {
      "text/plain": [
       "0"
      ]
     },
     "execution_count": 22,
     "metadata": {},
     "output_type": "execute_result"
    }
   ],
   "source": [
    "s1.seek(0)"
   ]
  },
  {
   "cell_type": "code",
   "execution_count": 23,
   "id": "312eb03e-bf73-4f81-813f-954f88f0547c",
   "metadata": {},
   "outputs": [],
   "source": [
    "#exception handling\n"
   ]
  },
  {
   "cell_type": "code",
   "execution_count": 26,
   "id": "394cd731-f8a4-4437-9034-0ff8a966ac85",
   "metadata": {},
   "outputs": [
    {
     "name": "stdout",
     "output_type": "stream",
     "text": [
      "code has failed\n",
      "my code is working fine\n"
     ]
    }
   ],
   "source": [
    "try:  # runtime exception\n",
    "    f=open('xyx.txt',\"r\")\n",
    "    f.write('adadsads')\n",
    "except: # runtime exceptio\n",
    "    print(\"code has failed\")\n",
    "try:\n",
    "    print(\"my code is working fine\")\n",
    "except:\n",
    "    print(\"this is working ok\")\n",
    "#TRY & EXCEPT NOT HANDLING COMPILE TIME ERROR"
   ]
  },
  {
   "cell_type": "code",
   "execution_count": 27,
   "id": "95ec48fa-5634-45f0-940e-d5197c0571be",
   "metadata": {},
   "outputs": [
    {
     "name": "stdin",
     "output_type": "stream",
     "text": [
      " 45\n"
     ]
    },
    {
     "name": "stdout",
     "output_type": "stream",
     "text": [
      "0.15555555555555556\n",
      "this is the line at the end\n"
     ]
    }
   ],
   "source": [
    "try:\n",
    "    a=int(input())\n",
    "    b=7/a\n",
    "    print(b)\n",
    "except Exception as y:\n",
    "    print(y)\n",
    "print(\"this is the line at the end\")"
   ]
  },
  {
   "cell_type": "code",
   "execution_count": 28,
   "id": "431a9f74-037a-4d3a-b950-b1178e061600",
   "metadata": {},
   "outputs": [
    {
     "name": "stdin",
     "output_type": "stream",
     "text": [
      " 34\n"
     ]
    },
    {
     "name": "stdout",
     "output_type": "stream",
     "text": [
      "this code is working fine\n",
      "it is executed a try block and its working fine\n",
      "this block should execute itself no matter what \n"
     ]
    }
   ],
   "source": [
    "try:\n",
    "    a=int(input())\n",
    "    b=9/a\n",
    "    print(\"this code is working fine\")\n",
    "except:\n",
    "    print(\"there is some issue with my try block\")\n",
    "else:\n",
    "    print(\"it is executed a try block and its working fine\") #try-else, --> else print only try block run successfully\n",
    "#any issue in try block except will work.  on that time else wil not work\n",
    "finally:\n",
    "    print(\"this block should execute itself no matter what \")"
   ]
  },
  {
   "cell_type": "code",
   "execution_count": null,
   "id": "2639be8d-ca78-4d53-828b-cd561e29765f",
   "metadata": {},
   "outputs": [],
   "source": []
  }
 ],
 "metadata": {
  "kernelspec": {
   "display_name": "Python 3 (ipykernel)",
   "language": "python",
   "name": "python3"
  },
  "language_info": {
   "codemirror_mode": {
    "name": "ipython",
    "version": 3
   },
   "file_extension": ".py",
   "mimetype": "text/x-python",
   "name": "python",
   "nbconvert_exporter": "python",
   "pygments_lexer": "ipython3",
   "version": "3.12.1"
  }
 },
 "nbformat": 4,
 "nbformat_minor": 5
}
