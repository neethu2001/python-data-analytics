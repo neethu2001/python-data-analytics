{
 "cells": [
  {
   "cell_type": "code",
   "execution_count": 1,
   "id": "a3a230db-a911-41bc-82fa-708af7baad6d",
   "metadata": {},
   "outputs": [
    {
     "name": "stdout",
     "output_type": "stream",
     "text": [
      "<class 'int'>\n"
     ]
    }
   ],
   "source": [
    "i=10\n",
    "print(type(i)) # int is a class "
   ]
  },
  {
   "cell_type": "code",
   "execution_count": 2,
   "id": "9636285a-7671-452f-9dcc-635db1e31924",
   "metadata": {},
   "outputs": [],
   "source": [
    "class test: # class classname\n",
    "    pass"
   ]
  },
  {
   "cell_type": "code",
   "execution_count": 29,
   "id": "e7e3592a-940d-455b-b5b1-59bb6eb26a21",
   "metadata": {},
   "outputs": [
    {
     "name": "stdout",
     "output_type": "stream",
     "text": [
      "<class '__main__.person'>\n"
     ]
    }
   ],
   "source": [
    "class person:\n",
    "    pass\n",
    "p=person#object= classname\n",
    "print(p)"
   ]
  },
  {
   "cell_type": "code",
   "execution_count": 18,
   "id": "1aa49712-8c28-49a2-80c4-813126c97e02",
   "metadata": {},
   "outputs": [],
   "source": [
    "p.name=\"sudh\" #  everything belongs to class person, everything are class variable\n",
    "p.surname=\"kumar\"\n",
    "p.yob=2001\n",
    "a=person\n",
    "a.name=\"suma\"\n",
    "a.yob=2006\n",
    "a.empno=3242\n",
    "#bad practi"
   ]
  },
  {
   "cell_type": "code",
   "execution_count": 23,
   "id": "d66b64c3-777b-43d2-8537-223cbf8a8355",
   "metadata": {},
   "outputs": [],
   "source": [
    "#object - class variable\n",
    "#p.name- trying fetch data from class\n",
    "# trying to assign multiple dataset, it will fetch latest dataset\n",
    "#here value is overriden "
   ]
  },
  {
   "cell_type": "code",
   "execution_count": 24,
   "id": "1d2422b4-e386-4cf6-8259-de72b69334b7",
   "metadata": {},
   "outputs": [
    {
     "data": {
      "text/plain": [
       "'suma'"
      ]
     },
     "execution_count": 24,
     "metadata": {},
     "output_type": "execute_result"
    }
   ],
   "source": [
    "p.name"
   ]
  },
  {
   "cell_type": "code",
   "execution_count": 25,
   "id": "ea3c5be7-6b88-43dc-86d2-6cf40f19b851",
   "metadata": {},
   "outputs": [
    {
     "data": {
      "text/plain": [
       "'kumar'"
      ]
     },
     "execution_count": 25,
     "metadata": {},
     "output_type": "execute_result"
    }
   ],
   "source": [
    "p.surname"
   ]
  },
  {
   "cell_type": "code",
   "execution_count": 26,
   "id": "7dd00dae-9f2a-47f8-b232-520cdfb4e5a4",
   "metadata": {},
   "outputs": [
    {
     "data": {
      "text/plain": [
       "2006"
      ]
     },
     "execution_count": 26,
     "metadata": {},
     "output_type": "execute_result"
    }
   ],
   "source": [
    "p.yob"
   ]
  },
  {
   "cell_type": "code",
   "execution_count": 27,
   "id": "39cd48ca-9b91-4cf4-9c1a-9f745e1467e1",
   "metadata": {},
   "outputs": [
    {
     "data": {
      "text/plain": [
       "2006"
      ]
     },
     "execution_count": 27,
     "metadata": {},
     "output_type": "execute_result"
    }
   ],
   "source": [
    "a.yob"
   ]
  },
  {
   "cell_type": "code",
   "execution_count": 32,
   "id": "52ca5bfc-e3a8-4265-8806-a36e0669987d",
   "metadata": {},
   "outputs": [
    {
     "name": "stdout",
     "output_type": "stream",
     "text": [
      "<__main__.person object at 0x7fe3fc63d550>\n"
     ]
    }
   ],
   "source": [
    "class person:\n",
    "    def __init__(self,name,surname,yob): #define a method starting with __ and ending with __\n",
    "    # it is known as default method, method inside class\n",
    "    # whenever creating a class try to create generic properties of taht calss\n",
    "    #try to pass variables to class through init\n",
    "        self.name=name # self referncing to the same class itself\n",
    "        self.surname=surname # self itself is a pointer\n",
    "        self.yob=yob\n",
    "p=person(\"sudh\",\"kumar\",233) # try to pass variables\n",
    "print(p)"
   ]
  },
  {
   "cell_type": "code",
   "execution_count": 35,
   "id": "c63c0e87-ae25-4001-a4a3-a4741032d39a",
   "metadata": {},
   "outputs": [
    {
     "data": {
      "text/plain": [
       "'abc'"
      ]
     },
     "execution_count": 35,
     "metadata": {},
     "output_type": "execute_result"
    }
   ],
   "source": [
    "s=person(\"abc\",\"jsij\",354566)\n",
    "s.name"
   ]
  },
  {
   "cell_type": "code",
   "execution_count": 36,
   "id": "b7a71836-73d3-4a1a-8fe1-6d4007ac9410",
   "metadata": {},
   "outputs": [
    {
     "data": {
      "text/plain": [
       "'sudh'"
      ]
     },
     "execution_count": 36,
     "metadata": {},
     "output_type": "execute_result"
    }
   ],
   "source": [
    "p.name # here it is understanding separtly using the object"
   ]
  },
  {
   "cell_type": "code",
   "execution_count": 38,
   "id": "daef376e-732f-44a7-a3a0-d9098891f737",
   "metadata": {},
   "outputs": [
    {
     "data": {
      "text/plain": [
       "'adad'"
      ]
     },
     "execution_count": 38,
     "metadata": {},
     "output_type": "execute_result"
    }
   ],
   "source": [
    "h=person(\"aad\",\"adad\",\"adafgd\")\n",
    "h.surname"
   ]
  },
  {
   "cell_type": "code",
   "execution_count": 41,
   "id": "9b85fd99-f84a-44e0-a493-a091b5ad86b3",
   "metadata": {},
   "outputs": [
    {
     "ename": "TypeError",
     "evalue": "test() takes 3 positional arguments but 4 were given",
     "output_type": "error",
     "traceback": [
      "\u001b[0;31m---------------------------------------------------------------------------\u001b[0m",
      "\u001b[0;31mTypeError\u001b[0m                                 Traceback (most recent call last)",
      "Cell \u001b[0;32mIn[41], line 9\u001b[0m\n\u001b[1;32m      7\u001b[0m         \u001b[38;5;28;01mreturn\u001b[39;00m n\u001b[38;5;241m+\u001b[39mm\u001b[38;5;241m+\u001b[39myob\n\u001b[1;32m      8\u001b[0m p\u001b[38;5;241m=\u001b[39mperson(\u001b[38;5;124m\"\u001b[39m\u001b[38;5;124msudh\u001b[39m\u001b[38;5;124m\"\u001b[39m,\u001b[38;5;124m\"\u001b[39m\u001b[38;5;124mkumar\u001b[39m\u001b[38;5;124m\"\u001b[39m,\u001b[38;5;241m23556\u001b[39m)\n\u001b[0;32m----> 9\u001b[0m \u001b[43mp\u001b[49m\u001b[38;5;241;43m.\u001b[39;49m\u001b[43mtest\u001b[49m\u001b[43m(\u001b[49m\u001b[38;5;124;43m\"\u001b[39;49m\u001b[38;5;124;43msfghk\u001b[39;49m\u001b[38;5;124;43m\"\u001b[39;49m\u001b[43m,\u001b[49m\u001b[38;5;124;43m\"\u001b[39;49m\u001b[38;5;124;43mfyyu\u001b[39;49m\u001b[38;5;124;43m\"\u001b[39;49m\u001b[43m,\u001b[49m\u001b[38;5;241;43m6879\u001b[39;49m\u001b[43m)\u001b[49m \u001b[38;5;66;03m# if u area ccessing class variable from outside of hat class\u001b[39;00m\n",
      "\u001b[0;31mTypeError\u001b[0m: test() takes 3 positional arguments but 4 were given"
     ]
    }
   ],
   "source": [
    "class person:\n",
    "    def __init__(self,name,surname,yob):\n",
    "        self.name=name # self referncing to the same class itself\n",
    "        self.surname=surname # self itself is a pointer\n",
    "        self.yob=yob\n",
    "    def test(self,n,m):\n",
    "        return n+m+yob\n",
    "p=person(\"sudh\",\"kumar\",23556)\n",
    "p.test(\"sfghk\",\"fyyu\",6879) \n",
    "# if u area ccessing class variable from outside of hat class ,it will not work\n"
   ]
  },
  {
   "cell_type": "code",
   "execution_count": 44,
   "id": "7b468e90-ba0d-4bb0-8157-80fe5823c73f",
   "metadata": {},
   "outputs": [
    {
     "data": {
      "text/plain": [
       "24244"
      ]
     },
     "execution_count": 44,
     "metadata": {},
     "output_type": "execute_result"
    }
   ],
   "source": [
    "class person:\n",
    "    def __init__(self,name,surname,yob):\n",
    "        self.name=name # self referncing to the same class itself\n",
    "        self.surname=surname # self itself is a pointer\n",
    "        self.yob=yob\n",
    "    def test(self,n,m):\n",
    "        return n+m+self.yob\n",
    "p=person(\"sudh\",\"kumar\",23556)\n",
    "p.test(345,343) "
   ]
  },
  {
   "cell_type": "code",
   "execution_count": 45,
   "id": "27776873-36fe-4a98-af24-71c5df84acf3",
   "metadata": {},
   "outputs": [
    {
     "ename": "TypeError",
     "evalue": "__str__ returned non-string (type int)",
     "output_type": "error",
     "traceback": [
      "\u001b[0;31m---------------------------------------------------------------------------\u001b[0m",
      "\u001b[0;31mTypeError\u001b[0m                                 Traceback (most recent call last)",
      "Cell \u001b[0;32mIn[45], line 11\u001b[0m\n\u001b[1;32m      9\u001b[0m         \u001b[38;5;28;01mreturn\u001b[39;00m \u001b[38;5;241m1\u001b[39m\n\u001b[1;32m     10\u001b[0m p\u001b[38;5;241m=\u001b[39mperson(\u001b[38;5;124m\"\u001b[39m\u001b[38;5;124msudh\u001b[39m\u001b[38;5;124m\"\u001b[39m,\u001b[38;5;124m\"\u001b[39m\u001b[38;5;124mkumar\u001b[39m\u001b[38;5;124m\"\u001b[39m,\u001b[38;5;241m23556\u001b[39m)\n\u001b[0;32m---> 11\u001b[0m \u001b[38;5;28;43mprint\u001b[39;49m\u001b[43m(\u001b[49m\u001b[43mp\u001b[49m\u001b[43m)\u001b[49m\n",
      "\u001b[0;31mTypeError\u001b[0m: __str__ returned non-string (type int)"
     ]
    }
   ],
   "source": [
    "class person:\n",
    "    def __init__(self,name,surname,yob):\n",
    "        self.name=name # self referncing to the same class itself\n",
    "        self.surname=surname # self itself is a pointer\n",
    "        self.yob=yob\n",
    "    def test(self,n,m):\n",
    "        return n+m+self.yob\n",
    "    def __str__(self): # str is a inbuild method, always try to return string\n",
    "        return 1\n",
    "p=person(\"sudh\",\"kumar\",23556)\n",
    "print(p) "
   ]
  },
  {
   "cell_type": "code",
   "execution_count": 50,
   "id": "9b62630f-beaf-4cc6-ae17-83d189116745",
   "metadata": {},
   "outputs": [
    {
     "name": "stdout",
     "output_type": "stream",
     "text": [
      "my name is sudh and surname is kumar and yob is 23556\n"
     ]
    }
   ],
   "source": [
    "class person:\n",
    "    def __init__(self,name,surname,yob):\n",
    "        self.name=name # self referncing to the same class itself\n",
    "        self.surname=surname # self itself is a pointer\n",
    "        self.yob=yob\n",
    "    def test(self,n,m):\n",
    "        return n+m+self.yob\n",
    "    def __str__(self): # str is a inbuild method, always try to return string\n",
    "        return \"my name is %s and surname is %s and yob is %d\" %(self.name,self.surname,self.yob)\n",
    "p=person(\"sudh\",\"kumar\",23556) # %s - place order for name, %d - place order for yob\n",
    "print(p) \n"
   ]
  },
  {
   "cell_type": "code",
   "execution_count": 51,
   "id": "143de826-a98b-4a55-9373-22ec5c4b1b00",
   "metadata": {},
   "outputs": [],
   "source": [
    "# if u are mentioning with bracket , it will not override\n"
   ]
  },
  {
   "cell_type": "code",
   "execution_count": 53,
   "id": "e8f48699-8288-4b4c-bd8f-7c4721673df6",
   "metadata": {},
   "outputs": [
    {
     "data": {
      "text/plain": [
       "'sudh'"
      ]
     },
     "execution_count": 53,
     "metadata": {},
     "output_type": "execute_result"
    }
   ],
   "source": [
    "class person:\n",
    "    def pass_name(self,name):\n",
    "        self.name=name\n",
    "    def pass_surname(self,surname):\n",
    "        self.surname=surname\n",
    "    def pass_yob(self,yob):\n",
    "        self.yob=yob\n",
    "p=person()\n",
    "p.pass_name(\"sudh\")\n",
    "p.name"
   ]
  },
  {
   "cell_type": "code",
   "execution_count": 55,
   "id": "5b5110d6-56ed-47a5-a1ca-50c96eb3df54",
   "metadata": {},
   "outputs": [
    {
     "data": {
      "text/plain": [
       "687"
      ]
     },
     "execution_count": 55,
     "metadata": {},
     "output_type": "execute_result"
    }
   ],
   "source": [
    "p.pass_surname(\"kumar\")\n",
    "p.pass_yob(687)\n",
    "p.yob"
   ]
  },
  {
   "cell_type": "code",
   "execution_count": 56,
   "id": "51a2dd2f-7e52-4c7d-a9d2-dbf396193515",
   "metadata": {},
   "outputs": [],
   "source": [
    "# CRAETE AN OWN METHOD\n",
    "# EMPTY CLASS WITH SEPARATE VARIABLE\n",
    "#INIT METHOD"
   ]
  },
  {
   "cell_type": "code",
   "execution_count": 57,
   "id": "43960b17-463a-4e0d-940d-c1358ba61e3e",
   "metadata": {},
   "outputs": [],
   "source": [
    "#PUBLIC- ANYONE can access variable from anywhere\n",
    "#Private-within class\n",
    "#protected- within package , class subclass\n",
    "# these concept are not in python"
   ]
  },
  {
   "cell_type": "code",
   "execution_count": 59,
   "id": "03b8246d-7c8a-4059-8404-69dbe5448354",
   "metadata": {},
   "outputs": [
    {
     "data": {
      "text/plain": [
       "'sudh'"
      ]
     },
     "execution_count": 59,
     "metadata": {},
     "output_type": "execute_result"
    }
   ],
   "source": [
    "class person:\n",
    "    def __init__(self,name,surname,yob):\n",
    "        self._name=name # self referncing to the same class itself\n",
    "        self._surname=surname # self itself is a pointer\n",
    "        self._yob=yob\n",
    "    def test(self,n,m):\n",
    "        return n+m+self._yob\n",
    "    def __str__(self): # str is a inbuild method, always try to return string\n",
    "        return \"my name is %s and surname is %s and yob is %d\" %(self._name,self._surname,self._yob)\n",
    "p=person(\"sudh\",\"kumar\",23556) # %s - place order for name, %d - place order for yob\n",
    "p._name# protected- single underscore\n",
    "# public- no underscore\n",
    "#private-  underscore"
   ]
  },
  {
   "cell_type": "code",
   "execution_count": 61,
   "id": "39cd6820-2be9-49fd-b303-998face646ba",
   "metadata": {},
   "outputs": [
    {
     "data": {
      "text/plain": [
       "{'_name': 'sudh', '_surname': 'kumar', '_yob': 23556}"
      ]
     },
     "execution_count": 61,
     "metadata": {},
     "output_type": "execute_result"
    }
   ],
   "source": [
    "class person:\n",
    "    def __init__(self,name,surname,yob):\n",
    "        self._name=name # self referncing to the same class itself\n",
    "        self._surname=surname # self itself is a pointer\n",
    "        self._yob=yob\n",
    "    def test(self,n,m):\n",
    "        return n+m+self._yob\n",
    "    def __str__(self): # str is a inbuild method, always try to return string\n",
    "        return \"my name is %s and surname is %s and yob is %d\" %(self._name,self._surname,self._yob)\n",
    "p=person(\"sudh\",\"kumar\",23556) # %s - place order for name, %d - place order for yob\n",
    "p.__dict__ #private- storing inside of dictionary"
   ]
  },
  {
   "cell_type": "code",
   "execution_count": 1,
   "id": "3ea79f49-89a8-4eda-aefd-f0575323d6bd",
   "metadata": {},
   "outputs": [
    {
     "ename": "AttributeError",
     "evalue": "'person' object has no attribute '__classname__'",
     "output_type": "error",
     "traceback": [
      "\u001b[0;31m---------------------------------------------------------------------------\u001b[0m",
      "\u001b[0;31mAttributeError\u001b[0m                            Traceback (most recent call last)",
      "Cell \u001b[0;32mIn[1], line 11\u001b[0m\n\u001b[1;32m      9\u001b[0m         \u001b[38;5;28;01mreturn\u001b[39;00m \u001b[38;5;124m\"\u001b[39m\u001b[38;5;124mmy name is \u001b[39m\u001b[38;5;132;01m%s\u001b[39;00m\u001b[38;5;124m and surname is \u001b[39m\u001b[38;5;132;01m%s\u001b[39;00m\u001b[38;5;124m and yob is \u001b[39m\u001b[38;5;132;01m%d\u001b[39;00m\u001b[38;5;124m\"\u001b[39m \u001b[38;5;241m%\u001b[39m(\u001b[38;5;28mself\u001b[39m\u001b[38;5;241m.\u001b[39m_name,\u001b[38;5;28mself\u001b[39m\u001b[38;5;241m.\u001b[39m_surname,\u001b[38;5;28mself\u001b[39m\u001b[38;5;241m.\u001b[39m_yob)\n\u001b[1;32m     10\u001b[0m p\u001b[38;5;241m=\u001b[39mperson(\u001b[38;5;124m\"\u001b[39m\u001b[38;5;124msudh\u001b[39m\u001b[38;5;124m\"\u001b[39m,\u001b[38;5;124m\"\u001b[39m\u001b[38;5;124mkumar\u001b[39m\u001b[38;5;124m\"\u001b[39m,\u001b[38;5;241m23556\u001b[39m) \u001b[38;5;66;03m# %s - place order for name, %d - place order for yob\u001b[39;00m\n\u001b[0;32m---> 11\u001b[0m \u001b[43mp\u001b[49m\u001b[38;5;241;43m.\u001b[39;49m\u001b[43m__classname__\u001b[49m\n",
      "\u001b[0;31mAttributeError\u001b[0m: 'person' object has no attribute '__classname__'"
     ]
    }
   ],
   "source": [
    "class person:\n",
    "    def __init__(self,name,surname,yob):\n",
    "        self._name=name # self referncing to the same class itself\n",
    "        self._surname=surname # self itself is a pointer\n",
    "        self._yob=yob\n",
    "    def test(self,n,m):\n",
    "        return n+m+self._yob\n",
    "    def __str__(self): # str is a inbuild method, always try to return string\n",
    "        return \"my name is %s and surname is %s and yob is %d\" %(self._name,self._surname,self._yob)\n",
    "p=person(\"sudh\",\"kumar\",23556) # %s - place order for name, %d - place order for yob\n",
    "p.__classname__"
   ]
  },
  {
   "cell_type": "code",
   "execution_count": 1,
   "id": "36cab674-b00c-482d-929d-a8a346f81ed5",
   "metadata": {},
   "outputs": [
    {
     "ename": "TypeError",
     "evalue": "__init__() missing 1 required positional argument: 'yob'",
     "output_type": "error",
     "traceback": [
      "\u001b[0;31m---------------------------------------------------------------------------\u001b[0m",
      "\u001b[0;31mTypeError\u001b[0m                                 Traceback (most recent call last)",
      "Cell \u001b[0;32mIn[1], line 16\u001b[0m\n\u001b[1;32m     14\u001b[0m         \u001b[38;5;28mself\u001b[39m\u001b[38;5;241m.\u001b[39mroll_no\u001b[38;5;241m=\u001b[39mroll_no\n\u001b[1;32m     15\u001b[0m         \u001b[38;5;28mself\u001b[39m\u001b[38;5;241m.\u001b[39mcollege_name\u001b[38;5;241m=\u001b[39mcollege_name\n\u001b[0;32m---> 16\u001b[0m stud\u001b[38;5;241m=\u001b[39m\u001b[43mstudent\u001b[49m\u001b[43m(\u001b[49m\u001b[38;5;241;43m3455\u001b[39;49m\u001b[43m,\u001b[49m\u001b[38;5;124;43m\"\u001b[39;49m\u001b[38;5;124;43mdfggh\u001b[39;49m\u001b[38;5;124;43m\"\u001b[39;49m\u001b[43m,\u001b[49m\u001b[38;5;124;43m\"\u001b[39;49m\u001b[38;5;124;43mfatgsjhjq\u001b[39;49m\u001b[38;5;124;43m\"\u001b[39;49m\u001b[43m,\u001b[49m\u001b[38;5;241;43m567678\u001b[39;49m\u001b[43m)\u001b[49m\n\u001b[1;32m     17\u001b[0m stud\u001b[38;5;241m.\u001b[39m_name\n",
      "Cell \u001b[0;32mIn[1], line 13\u001b[0m, in \u001b[0;36mstudent.__init__\u001b[0;34m(self, roll_no, college_name, *args)\u001b[0m\n\u001b[1;32m     12\u001b[0m \u001b[38;5;28;01mdef\u001b[39;00m \u001b[38;5;21m__init__\u001b[39m(\u001b[38;5;28mself\u001b[39m,roll_no,college_name,\u001b[38;5;241m*\u001b[39margs): \u001b[38;5;66;03m# declaring init of student class\u001b[39;00m\n\u001b[0;32m---> 13\u001b[0m     \u001b[38;5;28;43msuper\u001b[39;49m\u001b[43m(\u001b[49m\u001b[43mstudent\u001b[49m\u001b[43m,\u001b[49m\u001b[38;5;28;43mself\u001b[39;49m\u001b[43m)\u001b[49m\u001b[38;5;241;43m.\u001b[39;49m\u001b[38;5;21;43m__init__\u001b[39;49m\u001b[43m(\u001b[49m\u001b[38;5;241;43m*\u001b[39;49m\u001b[43margs\u001b[49m\u001b[43m)\u001b[49m \u001b[38;5;66;03m# accessing the init and argument of person class\u001b[39;00m\n\u001b[1;32m     14\u001b[0m     \u001b[38;5;28mself\u001b[39m\u001b[38;5;241m.\u001b[39mroll_no\u001b[38;5;241m=\u001b[39mroll_no\n\u001b[1;32m     15\u001b[0m     \u001b[38;5;28mself\u001b[39m\u001b[38;5;241m.\u001b[39mcollege_name\u001b[38;5;241m=\u001b[39mcollege_name\n",
      "\u001b[0;31mTypeError\u001b[0m: __init__() missing 1 required positional argument: 'yob'"
     ]
    }
   ],
   "source": [
    "class person:\n",
    "    def __init__(self,name,surname,yob):\n",
    "        self._name=name \n",
    "        self._surname=surname \n",
    "        self._yob=yob\n",
    "    def test(self,n,m):\n",
    "        return n+m+self._yob\n",
    "    def __str__(self): \n",
    "        return \"my name is %s and surname is %s and yob is %d\" %(self._name,self._surname,self._yob)\n",
    "\n",
    "class student(person):# perso is the parent class of student\n",
    "    def __init__(self,roll_no,college_name,*args): # declaring init of student class\n",
    "        super(student,self).__init__(*args) # accessing the init and argument of person class\n",
    "        self.roll_no=roll_no\n",
    "        self.college_name=college_name\n",
    "stud=student(3455,\"dfggh\",\"fatgsjhjq\",567678)\n",
    "stud._name"
   ]
  },
  {
   "cell_type": "code",
   "execution_count": 2,
   "id": "8d4a8e92-5c85-40a1-824c-018950f521fc",
   "metadata": {},
   "outputs": [
    {
     "name": "stdout",
     "output_type": "stream",
     "text": [
      "fatgsjhjq\n"
     ]
    }
   ],
   "source": [
    "class person:\n",
    "    def __init__(self, name, surname, yob):\n",
    "        self._name = name\n",
    "        self._surname = surname\n",
    "        self._yob = yob\n",
    "\n",
    "    def test(self, n, m):\n",
    "        return n + m + self._yob\n",
    "\n",
    "    def __str__(self):\n",
    "        return \"My name is %s and surname is %s and yob is %d\" % (self._name, self._surname, self._yob)\n",
    "\n",
    "\n",
    "class student(person):  # person is the parent class of student\n",
    "    def __init__(self, roll_no, college_name, name, surname, yob):  # declaring init of student class\n",
    "        super().__init__(name, surname, yob)  # accessing the init and argument of person class\n",
    "        self.roll_no = roll_no\n",
    "        self.college_name = college_name\n",
    "\n",
    "\n",
    "# Creating an instance of student class with appropriate parameters\n",
    "stud = student(3455, \"dfggh\", \"fatgsjhjq\", \"Smith\", 1995)\n",
    "\n",
    "# Accessing the _name attribute\n",
    "print(stud._name)  # Output: fatgsjhjq\n"
   ]
  },
  {
   "cell_type": "code",
   "execution_count": 3,
   "id": "857bf253-bf95-4400-b17b-a37c1e1e8abc",
   "metadata": {},
   "outputs": [
    {
     "data": {
      "text/plain": [
       "2004"
      ]
     },
     "execution_count": 3,
     "metadata": {},
     "output_type": "execute_result"
    }
   ],
   "source": [
    "stud.test(4,5)"
   ]
  },
  {
   "cell_type": "code",
   "execution_count": 7,
   "id": "3f0f9afc-1fc5-4f28-9944-2721831760a3",
   "metadata": {},
   "outputs": [
    {
     "name": "stdout",
     "output_type": "stream",
     "text": [
      "my surname is kumar\n",
      "my name is kumari\n",
      "my name is kumari\n"
     ]
    }
   ],
   "source": [
    "class a:\n",
    "    def test(self):\n",
    "        print(\"my surname is kumar\")\n",
    "class b :\n",
    "    def test(self):\n",
    "        print(\"my name is kumari\")\n",
    "class c(b,a): # child class always give priority to first class ,here it is (b,a) so it is b.\n",
    "    obja=a()\n",
    "    objb=b()\n",
    "    obja.test()\n",
    "    objb.test()\n",
    "objc=c()\n",
    "objc.test()"
   ]
  },
  {
   "cell_type": "code",
   "execution_count": null,
   "id": "afb6c076-cf0c-4f8b-9e95-6ff03a00d451",
   "metadata": {},
   "outputs": [],
   "source": []
  }
 ],
 "metadata": {
  "kernelspec": {
   "display_name": "Python 3 (ipykernel)",
   "language": "python",
   "name": "python3"
  },
  "language_info": {
   "codemirror_mode": {
    "name": "ipython",
    "version": 3
   },
   "file_extension": ".py",
   "mimetype": "text/x-python",
   "name": "python",
   "nbconvert_exporter": "python",
   "pygments_lexer": "ipython3",
   "version": "3.8.10"
  }
 },
 "nbformat": 4,
 "nbformat_minor": 5
}
